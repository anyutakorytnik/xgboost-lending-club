{
 "cells": [
  {
   "cell_type": "code",
   "execution_count": 17,
   "metadata": {},
   "outputs": [
    {
     "name": "stdout",
     "output_type": "stream",
     "text": [
      "Requirement already satisfied: lifelines in /Users/annakorytnik/opt/anaconda3/envs/kol_debug/lib/python3.8/site-packages (0.27.7)\n",
      "Requirement already satisfied: matplotlib>=3.0 in /Users/annakorytnik/opt/anaconda3/envs/kol_debug/lib/python3.8/site-packages (from lifelines) (3.5.1)\n",
      "Requirement already satisfied: autograd-gamma>=0.3 in /Users/annakorytnik/opt/anaconda3/envs/kol_debug/lib/python3.8/site-packages (from lifelines) (0.5.0)\n",
      "Requirement already satisfied: formulaic>=0.2.2 in /Users/annakorytnik/opt/anaconda3/envs/kol_debug/lib/python3.8/site-packages (from lifelines) (0.6.1)\n",
      "Requirement already satisfied: pandas>=1.0.0 in /Users/annakorytnik/opt/anaconda3/envs/kol_debug/lib/python3.8/site-packages (from lifelines) (1.4.0)\n",
      "Requirement already satisfied: numpy>=1.14.0 in /Users/annakorytnik/opt/anaconda3/envs/kol_debug/lib/python3.8/site-packages (from lifelines) (1.23.2)\n",
      "Requirement already satisfied: autograd>=1.5 in /Users/annakorytnik/opt/anaconda3/envs/kol_debug/lib/python3.8/site-packages (from lifelines) (1.5)\n",
      "Requirement already satisfied: scipy>=1.2.0 in /Users/annakorytnik/opt/anaconda3/envs/kol_debug/lib/python3.8/site-packages (from lifelines) (1.8.0)\n",
      "Requirement already satisfied: future>=0.15.2 in /Users/annakorytnik/opt/anaconda3/envs/kol_debug/lib/python3.8/site-packages (from autograd>=1.5->lifelines) (0.18.3)\n",
      "Requirement already satisfied: typing-extensions>=4.2.0 in /Users/annakorytnik/opt/anaconda3/envs/kol_debug/lib/python3.8/site-packages (from formulaic>=0.2.2->lifelines) (4.3.0)\n",
      "Requirement already satisfied: astor>=0.8 in /Users/annakorytnik/opt/anaconda3/envs/kol_debug/lib/python3.8/site-packages (from formulaic>=0.2.2->lifelines) (0.8.1)\n",
      "Requirement already satisfied: interface-meta>=1.2.0 in /Users/annakorytnik/opt/anaconda3/envs/kol_debug/lib/python3.8/site-packages (from formulaic>=0.2.2->lifelines) (1.3.0)\n",
      "Requirement already satisfied: wrapt>=1.0 in /Users/annakorytnik/opt/anaconda3/envs/kol_debug/lib/python3.8/site-packages (from formulaic>=0.2.2->lifelines) (1.13.3)\n",
      "Requirement already satisfied: graphlib-backport>=1.0.0 in /Users/annakorytnik/opt/anaconda3/envs/kol_debug/lib/python3.8/site-packages (from formulaic>=0.2.2->lifelines) (1.0.3)\n",
      "Requirement already satisfied: pyparsing>=2.2.1 in /Users/annakorytnik/opt/anaconda3/envs/kol_debug/lib/python3.8/site-packages (from matplotlib>=3.0->lifelines) (2.4.7)\n",
      "Requirement already satisfied: packaging>=20.0 in /Users/annakorytnik/opt/anaconda3/envs/kol_debug/lib/python3.8/site-packages (from matplotlib>=3.0->lifelines) (21.3)\n",
      "Requirement already satisfied: kiwisolver>=1.0.1 in /Users/annakorytnik/opt/anaconda3/envs/kol_debug/lib/python3.8/site-packages (from matplotlib>=3.0->lifelines) (1.4.4)\n",
      "Requirement already satisfied: fonttools>=4.22.0 in /Users/annakorytnik/opt/anaconda3/envs/kol_debug/lib/python3.8/site-packages (from matplotlib>=3.0->lifelines) (4.37.0)\n",
      "Requirement already satisfied: cycler>=0.10 in /Users/annakorytnik/opt/anaconda3/envs/kol_debug/lib/python3.8/site-packages (from matplotlib>=3.0->lifelines) (0.11.0)\n",
      "Requirement already satisfied: pillow>=6.2.0 in /Users/annakorytnik/opt/anaconda3/envs/kol_debug/lib/python3.8/site-packages (from matplotlib>=3.0->lifelines) (9.2.0)\n",
      "Requirement already satisfied: python-dateutil>=2.7 in /Users/annakorytnik/opt/anaconda3/envs/kol_debug/lib/python3.8/site-packages (from matplotlib>=3.0->lifelines) (2.8.2)\n",
      "Requirement already satisfied: pytz>=2020.1 in /Users/annakorytnik/opt/anaconda3/envs/kol_debug/lib/python3.8/site-packages (from pandas>=1.0.0->lifelines) (2022.2.1)\n",
      "Requirement already satisfied: six>=1.5 in /Users/annakorytnik/opt/anaconda3/envs/kol_debug/lib/python3.8/site-packages (from python-dateutil>=2.7->matplotlib>=3.0->lifelines) (1.16.0)\n"
     ]
    }
   ],
   "source": [
    "! pip install lifelines"
   ]
  },
  {
   "cell_type": "code",
   "execution_count": 18,
   "metadata": {},
   "outputs": [],
   "source": [
    "from pysurvival.utils.metrics import concordance_index\n",
    "import numpy as np"
   ]
  },
  {
   "cell_type": "code",
   "execution_count": 14,
   "metadata": {},
   "outputs": [],
   "source": [
    "a = np.array([1])\n",
    "b = np.array([[1, 1]])"
   ]
  },
  {
   "cell_type": "code",
   "execution_count": 16,
   "metadata": {},
   "outputs": [
    {
     "ename": "TypeError",
     "evalue": "concordance_index() missing 2 required positional arguments: 'model' and 'X'",
     "output_type": "error",
     "traceback": [
      "\u001b[0;31m---------------------------------------------------------------------------\u001b[0m",
      "\u001b[0;31mTypeError\u001b[0m                                 Traceback (most recent call last)",
      "\u001b[0;32m/var/folders/n2/gg5n0_w95pv9ntx938ggdsx40000gn/T/ipykernel_59004/829445352.py\u001b[0m in \u001b[0;36m<cell line: 1>\u001b[0;34m()\u001b[0m\n\u001b[0;32m----> 1\u001b[0;31m \u001b[0mconcordance_index\u001b[0m\u001b[0;34m(\u001b[0m\u001b[0mT\u001b[0m\u001b[0;34m=\u001b[0m\u001b[0ma\u001b[0m\u001b[0;34m,\u001b[0m \u001b[0mE\u001b[0m\u001b[0;34m=\u001b[0m\u001b[0mb\u001b[0m\u001b[0;34m)\u001b[0m\u001b[0;34m\u001b[0m\u001b[0;34m\u001b[0m\u001b[0m\n\u001b[0m",
      "\u001b[0;31mTypeError\u001b[0m: concordance_index() missing 2 required positional arguments: 'model' and 'X'"
     ]
    }
   ],
   "source": [
    "concordance_index(T=a, E=b)"
   ]
  },
  {
   "cell_type": "code",
   "execution_count": null,
   "metadata": {},
   "outputs": [],
   "source": []
  }
 ],
 "metadata": {
  "kernelspec": {
   "display_name": "Python 3.8.12 ('kol_debug')",
   "language": "python",
   "name": "python3"
  },
  "language_info": {
   "codemirror_mode": {
    "name": "ipython",
    "version": 3
   },
   "file_extension": ".py",
   "mimetype": "text/x-python",
   "name": "python",
   "nbconvert_exporter": "python",
   "pygments_lexer": "ipython3",
   "version": "3.8.12"
  },
  "orig_nbformat": 4,
  "vscode": {
   "interpreter": {
    "hash": "1c86b06cc2759197e3656e62aba57707e5e43a2a0d66cd18841f2f3278edf58c"
   }
  }
 },
 "nbformat": 4,
 "nbformat_minor": 2
}
