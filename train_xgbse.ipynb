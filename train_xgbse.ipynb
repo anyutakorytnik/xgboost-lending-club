{
 "cells": [
  {
   "cell_type": "code",
   "execution_count": null,
   "metadata": {},
   "outputs": [],
   "source": [
    "import numpy as np\n",
    "import pandas as pd\n",
    "\n",
    "import optuna\n",
    "from sklearn.model_selection import StratifiedKFold, train_test_split\n",
    "\n",
    "from pycox.datasets import metabric\n",
    "\n",
    "from xgbse.converters import convert_to_structured\n",
    "from xgbse import XGBSEDebiasedBCE\n",
    "from xgbse.metrics import concordance_index"
   ]
  },
  {
   "cell_type": "markdown",
   "metadata": {},
   "source": [
    "# Prepare data"
   ]
  },
  {
   "cell_type": "code",
   "execution_count": null,
   "metadata": {},
   "outputs": [],
   "source": [
    "data = pd.read_parquet(\"data/train_val_data.parquet.gzip\")"
   ]
  },
  {
   "cell_type": "code",
   "execution_count": null,
   "metadata": {},
   "outputs": [],
   "source": [
    "target_cols = [col for col in data.columns if \"target\" in col] + ['term']\n",
    "target_cols"
   ]
  },
  {
   "cell_type": "code",
   "execution_count": null,
   "metadata": {},
   "outputs": [],
   "source": [
    "features = [\"annual_inc\", \"loan_amnt\", \"fico_average\", \"emp_length\", \"acc_open_past_24mths\", \"avg_cur_bal\" , \"sub_grade\", \"int_rate\", \"revol_util\"]\n",
    "\n",
    "features += [col for col in data.columns if \"home_ownership_ohe_\" in col]\n",
    "\n",
    "data_used_cols = data[features + target_cols].dropna()\n",
    "# assert data.shape[0] == data_used_cols.shape[0]\n",
    "\n",
    "features"
   ]
  },
  {
   "cell_type": "code",
   "execution_count": null,
   "metadata": {},
   "outputs": [],
   "source": [
    "# splitting to X, T, E format\n",
    "X = data_used_cols.drop(['target', 'target_month', 'target_xgb'], axis=1)\n",
    "T = data_used_cols['target_month']\n",
    "E = data_used_cols['target']\n",
    "y = data_used_cols[['target', 'target_month']]\n",
    "y_structured = convert_to_structured(T, E)"
   ]
  },
  {
   "cell_type": "code",
   "execution_count": null,
   "metadata": {},
   "outputs": [],
   "source": [
    "def train_xgbse_model(X_train, y_train, X_val, y_val, xgb_params, lr_params):\n",
    "    xgbse_model = XGBSEDebiasedBCE(\n",
    "        xgb_params = xgb_params,\n",
    "        lr_params=lr_params\n",
    "    )\n",
    "    TIME_BINS = np.arange(1, 61, 1)\n",
    "    xgbse_model.fit(\n",
    "        X_train.values, y_train, time_bins=TIME_BINS, num_boost_round=3\n",
    "    )\n",
    "    y_pred = xgbse_model.predict(X_val)\n",
    "\n",
    "    return xgbse_model, y_pred"
   ]
  },
  {
   "cell_type": "code",
   "execution_count": null,
   "metadata": {},
   "outputs": [],
   "source": [
    "def objective(trial):\n",
    "\n",
    "    skf = StratifiedKFold(n_splits=3, shuffle=True)\n",
    "\n",
    "    xgb_params = {\n",
    "        \"objective\": \"survival:aft\", # for survival analysis\n",
    "        \"eval_metric\": \"aft-nloglik\", # for survival analysis\n",
    "        \"aft_loss_distribution\": trial.suggest_categorical(\"aft_loss_distribution\", [\"normal\", \"logistic\", \"extreme\"]),\n",
    "        \"aft_loss_distribution_scale\": trial.suggest_float('aft_loss_distribution_scale', 0.5, 1.5, log=True),\n",
    "        \"tree_method\": \"auto\", # shouldn't change\n",
    "        \"learning_rate\": trial.suggest_float('learning_rate', 0.01, 0.2, log=True),\n",
    "        \"max_depth\": trial.suggest_int('max_depth', 3, 10, log=True),\n",
    "        \"booster\": trial.suggest_categorical(\"booster\", [\"gbtree\", \"dart\"]),\n",
    "        \"subsample\": trial.suggest_float('subsample', 0.5, 1, log=True),\n",
    "        \"min_child_weight\": 50, # was choosed\n",
    "        \"colsample_bynode\": trial.suggest_float('colsample_bynode', 1e-3, 1, log=True),\n",
    "    }\n",
    "    lr_params={\n",
    "        'C': trial.suggest_float('C', 1e-5, 1e-1, log=True), \n",
    "        'max_iter': 100 # don't really change the situation\n",
    "    }\n",
    "\n",
    "    # Train and test model on each fold\n",
    "    metrics = []\n",
    "    for train_index, val_index in list(skf.split(X, y['target_month'])):\n",
    "        X_train, X_val = X.iloc[train_index].copy(), X.iloc[val_index].copy()\n",
    "        y_train, y_val = y_structured[train_index].copy(), y_structured[val_index].copy()\n",
    "        \n",
    "        print(\"started_train\")\n",
    "        model, prob_for_month = train_xgbse_model(X_train=X_train, y_train=y_train, X_val=X_val, y_val=y_val, xgb_params=xgb_params, lr_params=lr_params)\n",
    "\n",
    "        print(\"started_calculate\")\n",
    "        c_ind = concordance_index(y_val, prob_for_month)\n",
    "\n",
    "        metrics.append(c_ind)\n",
    "        print(\n",
    "            \"C_INDEX\", round(\n",
    "                c_ind, 5\n",
    "            )\n",
    "        )\n",
    "\n",
    "    return np.mean(metrics)"
   ]
  },
  {
   "cell_type": "code",
   "execution_count": null,
   "metadata": {},
   "outputs": [],
   "source": [
    "study = optuna.create_study(direction='maximize')\n",
    "study.optimize(objective, n_trials=100)"
   ]
  },
  {
   "cell_type": "markdown",
   "metadata": {},
   "source": [
    "Best C-index: 0.6843114772562473"
   ]
  },
  {
   "cell_type": "code",
   "execution_count": null,
   "metadata": {},
   "outputs": [],
   "source": [
    "study.best_params"
   ]
  },
  {
   "cell_type": "code",
   "execution_count": null,
   "metadata": {},
   "outputs": [],
   "source": []
  }
 ],
 "metadata": {
  "kernelspec": {
   "display_name": "Python 3.8.12 ('kol_debug')",
   "language": "python",
   "name": "python3"
  },
  "language_info": {
   "codemirror_mode": {
    "name": "ipython",
    "version": 3
   },
   "file_extension": ".py",
   "mimetype": "text/x-python",
   "name": "python",
   "nbconvert_exporter": "python",
   "pygments_lexer": "ipython3",
   "version": "3.8.12"
  },
  "orig_nbformat": 4,
  "vscode": {
   "interpreter": {
    "hash": "1c86b06cc2759197e3656e62aba57707e5e43a2a0d66cd18841f2f3278edf58c"
   }
  }
 },
 "nbformat": 4,
 "nbformat_minor": 2
}
