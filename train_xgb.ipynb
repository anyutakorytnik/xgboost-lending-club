{
 "cells": [
  {
   "cell_type": "code",
   "execution_count": 23,
   "metadata": {},
   "outputs": [],
   "source": [
    "from imports_and_consts import *\n",
    "\n",
    "import optuna\n",
    "from sklearn.model_selection import StratifiedKFold, train_test_split\n",
    "\n",
    "import xgboost as xgb\n",
    "\n",
    "from lifelines.utils import concordance_index\n",
    "from sklearn.metrics import roc_auc_score\n",
    "\n",
    "import matplotlib.pyplot as plt"
   ]
  },
  {
   "cell_type": "code",
   "execution_count": 24,
   "metadata": {},
   "outputs": [],
   "source": [
    "data = pd.read_parquet(\"data/train_val_data.parquet.gzip\")"
   ]
  },
  {
   "cell_type": "code",
   "execution_count": 25,
   "metadata": {},
   "outputs": [
    {
     "data": {
      "text/plain": [
       "['target', 'target_month', 'target_xgb', 'term']"
      ]
     },
     "execution_count": 25,
     "metadata": {},
     "output_type": "execute_result"
    }
   ],
   "source": [
    "target_cols = ['target', 'target_month', 'target_xgb', 'term']\n",
    "target_cols"
   ]
  },
  {
   "cell_type": "code",
   "execution_count": 26,
   "metadata": {},
   "outputs": [
    {
     "data": {
      "text/plain": [
       "['annual_inc',\n",
       " 'loan_amnt',\n",
       " 'fico_average',\n",
       " 'emp_length',\n",
       " 'acc_open_past_24mths',\n",
       " 'avg_cur_bal',\n",
       " 'sub_grade',\n",
       " 'int_rate',\n",
       " 'revol_util',\n",
       " 'home_ownership_ohe_ANY',\n",
       " 'home_ownership_ohe_MORTGAGE',\n",
       " 'home_ownership_ohe_NONE',\n",
       " 'home_ownership_ohe_OTHER',\n",
       " 'home_ownership_ohe_OWN',\n",
       " 'home_ownership_ohe_RENT']"
      ]
     },
     "execution_count": 26,
     "metadata": {},
     "output_type": "execute_result"
    }
   ],
   "source": [
    "features = [\"annual_inc\", \"loan_amnt\", \"fico_average\", \"emp_length\", \"acc_open_past_24mths\", \"avg_cur_bal\" , \"sub_grade\", \"int_rate\", \"revol_util\"]\n",
    "features += [col for col in data.columns if \"home_ownership_ohe_\" in col]\n",
    "\n",
    "data_used_cols = data[features + target_cols].dropna()\n",
    "# assert data.shape[0] == data_used_cols.shape[0]\n",
    "\n",
    "features"
   ]
  },
  {
   "cell_type": "code",
   "execution_count": 27,
   "metadata": {},
   "outputs": [],
   "source": [
    "X, y = data_used_cols[features + ['term']], data_used_cols[target_cols]"
   ]
  },
  {
   "cell_type": "markdown",
   "metadata": {},
   "source": [
    "# Predict"
   ]
  },
  {
   "cell_type": "code",
   "execution_count": 28,
   "metadata": {},
   "outputs": [],
   "source": [
    "def get_proba_for_month(proba, n_months):\n",
    "    # PDn = 1 - (1-pd12)^(n/12)\n",
    "\n",
    "    return 1 - (1 - proba) ** (n_months / 12)\n",
    "    "
   ]
  },
  {
   "cell_type": "code",
   "execution_count": 29,
   "metadata": {},
   "outputs": [],
   "source": [
    "def train_xgb_model(X_train, y_train, X_val=None, y_val=None, params={}, verbose_plots=False):\n",
    "    params['scale_pos_weight'] = (y_train[\"target_xgb\"] == 0).sum() / (y_train[\"target_xgb\"] == 1).sum()\n",
    "\n",
    "    model = xgb.XGBClassifier(**params)\n",
    "    if X_val is not None:\n",
    "        model.fit(\n",
    "            X_train, y_train[\"target_xgb\"], \n",
    "            eval_set=[(X_train, y_train[\"target_xgb\"]), (X_val, y_val[\"target_xgb\"])],\n",
    "            verbose=False\n",
    "        )\n",
    "    else:\n",
    "        model.fit(\n",
    "            X_train, y_train[\"target_xgb\"], \n",
    "            eval_set=[(X_train, y_train[\"target_xgb\"])],\n",
    "            verbose=False\n",
    "        )\n",
    "\n",
    "    if verbose_plots:\n",
    "        print(params, features)\n",
    "        results = model.evals_result()\n",
    "        epochs = len(results['validation_0']['auc'])\n",
    "        x_axis = range(0, epochs)\n",
    "        fig, ax = plt.subplots()\n",
    "        ax.plot(x_axis, results['validation_0']['auc'], label='Train')\n",
    "        if X_val is not None:\n",
    "            ax.plot(x_axis, results['validation_1']['auc'], label='Val')\n",
    "        ax.legend()\n",
    "        plt.ylabel('AUC')\n",
    "        plt.title('XGBoost AUC')\n",
    "        plt.show()\n",
    "\n",
    "    # Test model\n",
    "    if X_val is not None:\n",
    "        y_val['y_pred'] = model.predict_proba(X_val)[:,1]\n",
    "        y_val['prob_for_month'] = y_val.apply(lambda x: get_proba_for_month(x.y_pred, x.term), axis=1)\n",
    "\n",
    "        return model, -y_val['prob_for_month']\n",
    "    else:\n",
    "        return model"
   ]
  },
  {
   "cell_type": "code",
   "execution_count": 30,
   "metadata": {},
   "outputs": [],
   "source": [
    "def objective(trial):\n",
    "\n",
    "    skf = StratifiedKFold(n_splits=5, shuffle=True)\n",
    "\n",
    "    params = {\n",
    "        'booster': 'gbtree',\n",
    "        'objective': 'binary:logistic',\n",
    "        'eval_metric': 'auc',\n",
    "        'n_estimators': 5000,\n",
    "        'subsample': trial.suggest_float('subsample', 0.25, 0.7, log=True),\n",
    "        'min_child_weight': 30,\n",
    "        'early_stopping_rounds': 10,\n",
    "        'learning_rate': trial.suggest_float('learning_rate', 0.01, 0.2, log=True),\n",
    "        'max_depth': trial.suggest_int('max_depth', 3, 10, log=True),\n",
    "        'seed': SEED,\n",
    "    }\n",
    "\n",
    "    # Train and test model on each fold\n",
    "    metrics = []\n",
    "    for train_index, val_index in list(skf.split(X, y[\"target_xgb\"])):\n",
    "        X_train, X_val = X_train_val.iloc[train_index].copy(), X_train_val.iloc[val_index].copy()\n",
    "        y_train, y_val = y_train_val.iloc[train_index].copy(), y_train_val.iloc[val_index].copy()\n",
    "        \n",
    "        model, prob_for_month = train_xgb_model(X_train=X_train, y_train=y_train, X_val=X_val, y_val=y_val, params=params, verbose_plots=True)\n",
    "\n",
    "        c_ind = concordance_index(\n",
    "            event_times=y_val[\"target_month\"], predicted_scores=prob_for_month, event_observed=y_val['target']\n",
    "        )\n",
    "\n",
    "        metrics.append(c_ind)\n",
    "        print(\n",
    "            \"C_INDEX\", round(\n",
    "                c_ind, 5\n",
    "            )\n",
    "        )\n",
    "\n",
    "    return np.mean(metrics)"
   ]
  },
  {
   "cell_type": "code",
   "execution_count": 31,
   "metadata": {},
   "outputs": [],
   "source": [
    "# study = optuna.create_study(direction='maximize')\n",
    "# study.optimize(objective, n_trials=3)"
   ]
  },
  {
   "cell_type": "code",
   "execution_count": 32,
   "metadata": {},
   "outputs": [
    {
     "name": "stdout",
     "output_type": "stream",
     "text": [
      "{'booster': 'gbtree', 'objective': 'binary:logistic', 'eval_metric': 'auc', 'n_estimators': 100, 'subsample': 0.6647914335903077, 'min_child_weight': 30, 'early_stopping_rounds': 10, 'learning_rate': 0.025066311555882063, 'max_depth': 9, 'seed': 69, 'scale_pos_weight': 12.71626582824497} ['annual_inc', 'loan_amnt', 'fico_average', 'emp_length', 'acc_open_past_24mths', 'avg_cur_bal', 'sub_grade', 'int_rate', 'revol_util', 'home_ownership_ohe_ANY', 'home_ownership_ohe_MORTGAGE', 'home_ownership_ohe_NONE', 'home_ownership_ohe_OTHER', 'home_ownership_ohe_OWN', 'home_ownership_ohe_RENT']\n"
     ]
    },
    {
     "data": {
      "image/png": "[encoded data removed]",
      "text/plain": [
       "<Figure size 640x480 with 1 Axes>"
      ]
     },
     "metadata": {},
     "output_type": "display_data"
    }
   ],
   "source": [
    "best_params = {\n",
    "        'booster': 'gbtree',\n",
    "        'objective': 'binary:logistic',\n",
    "        'eval_metric': 'auc',\n",
    "        'n_estimators': 100,\n",
    "        'subsample': 0.6647914335903077,\n",
    "        'min_child_weight': 30,\n",
    "        'early_stopping_rounds': 10,\n",
    "        'learning_rate': 0.025066311555882063,\n",
    "        'max_depth': 9,\n",
    "        'seed': SEED,\n",
    "    }\n",
    "\n",
    "model = train_xgb_model(X_train=X, y_train=y, X_val=None, y_val=None, params=best_params, verbose_plots=True)"
   ]
  },
  {
   "cell_type": "code",
   "execution_count": 33,
   "metadata": {},
   "outputs": [],
   "source": [
    "import pickle\n",
    "file_name = \"xgb_model.pickle\"\n",
    "\n",
    "pickle.dump(model, open(file_name, \"wb\"))"
   ]
  }
 ],
 "metadata": {
  "kernelspec": {
   "display_name": "Kedro (rad_kol)",
   "language": "python",
   "name": "kedro_rad_kol"
  },
  "language_info": {
   "codemirror_mode": {
    "name": "ipython",
    "version": 3
   },
   "file_extension": ".py",
   "mimetype": "text/x-python",
   "name": "python",
   "nbconvert_exporter": "python",
   "pygments_lexer": "ipython3",
   "version": "3.8.12"
  },
  "orig_nbformat": 4,
  "vscode": {
   "interpreter": {
    "hash": "ca1d4350bcb83f718c1ec3ab5b3e7665f30cdd2135f2781a71c70cb36a1e6d75"
   }
  }
 },
 "nbformat": 4,
 "nbformat_minor": 2
}
