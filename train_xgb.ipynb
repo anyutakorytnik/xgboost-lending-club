{
 "cells": [
  {
   "cell_type": "code",
   "execution_count": 1,
   "metadata": {},
   "outputs": [
    {
     "name": "stdout",
     "output_type": "stream",
     "text": [
      "2023-05-15 04:17:25,346 - numexpr.utils - INFO - NumExpr defaulting to 8 threads.\n"
     ]
    }
   ],
   "source": [
    "import pandas as pd\n",
    "import numpy as np\n",
    "\n",
    "import xgboost as xgb\n",
    "from sklearn.model_selection import StratifiedKFold, train_test_split\n",
    "from sklearn.metrics import roc_auc_score\n",
    "import optuna\n",
    "from lifelines.utils import concordance_index\n",
    "\n",
    "import matplotlib.pyplot as plt"
   ]
  },
  {
   "cell_type": "code",
   "execution_count": 2,
   "metadata": {},
   "outputs": [],
   "source": [
    "SEED = 69\n",
    "\n",
    "import os\n",
    "os.environ['PYTHONHASHSEED']=str(SEED)\n",
    "\n",
    "import random\n",
    "random.seed(SEED)\n",
    "\n",
    "import numpy as np\n",
    "np.random.seed(SEED)"
   ]
  },
  {
   "cell_type": "code",
   "execution_count": 3,
   "metadata": {},
   "outputs": [],
   "source": [
    "data = pd.read_parquet(\"data/data_with_feats_4xgb.parquet.gzip\")"
   ]
  },
  {
   "cell_type": "code",
   "execution_count": 4,
   "metadata": {},
   "outputs": [
    {
     "data": {
      "text/plain": [
       "['target', 'target_month', 'target_xgb', 'term']"
      ]
     },
     "execution_count": 4,
     "metadata": {},
     "output_type": "execute_result"
    }
   ],
   "source": [
    "target_cols = [col for col in data.columns if \"target\" in col] + ['term']\n",
    "target_cols"
   ]
  },
  {
   "cell_type": "code",
   "execution_count": 5,
   "metadata": {},
   "outputs": [
    {
     "data": {
      "text/plain": [
       "['annual_inc',\n",
       " 'loan_amnt',\n",
       " 'fico_average',\n",
       " 'emp_length',\n",
       " 'acc_open_past_24mths',\n",
       " 'avg_cur_bal',\n",
       " 'sub_grade',\n",
       " 'int_rate',\n",
       " 'revol_util',\n",
       " 'home_ownership_ohe_ANY',\n",
       " 'home_ownership_ohe_MORTGAGE',\n",
       " 'home_ownership_ohe_NONE',\n",
       " 'home_ownership_ohe_OTHER',\n",
       " 'home_ownership_ohe_OWN',\n",
       " 'home_ownership_ohe_RENT']"
      ]
     },
     "execution_count": 5,
     "metadata": {},
     "output_type": "execute_result"
    }
   ],
   "source": [
    "features = [\"annual_inc\", \"loan_amnt\", \"fico_average\", \"emp_length\", \"acc_open_past_24mths\", \"avg_cur_bal\" , \"sub_grade\", \"int_rate\", \"revol_util\"]\n",
    "\n",
    "features += [col for col in data.columns if \"home_ownership_ohe_\" in col]\n",
    "\n",
    "data_used_cols = data[features + target_cols].dropna()\n",
    "# assert data.shape[0] == data_used_cols.shape[0]\n",
    "\n",
    "features"
   ]
  },
  {
   "cell_type": "code",
   "execution_count": 6,
   "metadata": {},
   "outputs": [
    {
     "data": {
      "text/plain": [
       "0    1723625\n",
       "1     133750\n",
       "Name: target_xgb, dtype: int64"
      ]
     },
     "execution_count": 6,
     "metadata": {},
     "output_type": "execute_result"
    }
   ],
   "source": [
    "data[\"target_xgb\"].value_counts()"
   ]
  },
  {
   "cell_type": "code",
   "execution_count": 7,
   "metadata": {},
   "outputs": [],
   "source": [
    "data_true = data_used_cols.loc[data_used_cols[\"target_xgb\"] == 1]\n",
    "data_false = data_used_cols.loc[data_used_cols[\"target_xgb\"] == 0]"
   ]
  },
  {
   "cell_type": "code",
   "execution_count": 8,
   "metadata": {},
   "outputs": [],
   "source": [
    "X, y = data_false[features], data_false[target_cols]\n",
    "\n",
    "X_train_val, X_test, y_train_val, y_test = train_test_split(X, y, test_size=0.6, random_state=SEED)"
   ]
  },
  {
   "cell_type": "code",
   "execution_count": 9,
   "metadata": {},
   "outputs": [],
   "source": [
    "X_train_val = pd.concat([X_train_val, data_true[features]], axis=0)\n",
    "y_train_val = pd.concat([y_train_val, data_true[target_cols]], axis=0)"
   ]
  },
  {
   "cell_type": "code",
   "execution_count": 10,
   "metadata": {},
   "outputs": [
    {
     "data": {
      "text/plain": [
       "130489"
      ]
     },
     "execution_count": 10,
     "metadata": {},
     "output_type": "execute_result"
    }
   ],
   "source": [
    "(y_train_val[\"target_xgb\"] == 1).sum()"
   ]
  },
  {
   "cell_type": "markdown",
   "metadata": {},
   "source": [
    "# Predict"
   ]
  },
  {
   "cell_type": "code",
   "execution_count": 11,
   "metadata": {},
   "outputs": [],
   "source": [
    "def get_proba_for_month(proba, n_months):\n",
    "    # PDn = 1 - (1-pd12)^(n/12)\n",
    "\n",
    "    return 1 - (1 - proba) ** (n_months / 12)\n",
    "    "
   ]
  },
  {
   "cell_type": "code",
   "execution_count": 12,
   "metadata": {},
   "outputs": [],
   "source": [
    "def objective(trial):\n",
    "\n",
    "    VERBOSE_PLOTS = False\n",
    "    skf = StratifiedKFold(n_splits=5, shuffle=True)\n",
    "\n",
    "    params = {\n",
    "        'booster': 'gbtree',\n",
    "        'objective': 'binary:logistic',\n",
    "        'eval_metric': 'auc',\n",
    "        'n_estimators': 5000,\n",
    "        'subsample': trial.suggest_float('subsample', 0.25, 0.7, log=True),\n",
    "        'min_child_weight': 30,\n",
    "        'early_stopping_rounds': 10,\n",
    "        'learning_rate': trial.suggest_float('learning_rate', 0.01, 0.2, log=True),\n",
    "        'max_depth': trial.suggest_int('max_depth', 3, 10, log=True),\n",
    "        'seed': SEED,\n",
    "    }\n",
    "\n",
    "    # Train and test model on each fold\n",
    "    metrics = []\n",
    "    for train_index, val_index in list(skf.split(X_train_val, y_train_val[\"target_xgb\"]))[:3]:\n",
    "        X_train, X_val = X_train_val.iloc[train_index].copy(), X_train_val.iloc[val_index].copy()\n",
    "        y_train, y_val = y_train_val.iloc[train_index].copy(), y_train_val.iloc[val_index].copy()\n",
    "        \n",
    "        # Train model\n",
    "        params['scale_pos_weight'] = (y_train[\"target_xgb\"] == 0).sum() / (y_train[\"target_xgb\"] == 1).sum()\n",
    "\n",
    "        model = xgb.XGBClassifier(**params)\n",
    "        model.fit(\n",
    "            X_train, y_train[\"target_xgb\"], \n",
    "            eval_set=[(X_train, y_train[\"target_xgb\"]), (X_val, y_val[\"target_xgb\"])],\n",
    "            verbose=False\n",
    "        )\n",
    "\n",
    "        if VERBOSE_PLOTS == True:\n",
    "            print(params, features)\n",
    "            results = model.evals_result()\n",
    "            epochs = len(results['validation_0']['auc'])\n",
    "            x_axis = range(0, epochs)\n",
    "            fig, ax = plt.subplots()\n",
    "            ax.plot(x_axis, results['validation_0']['auc'], label='Train')\n",
    "            ax.plot(x_axis, results['validation_1']['auc'], label='Test')\n",
    "            ax.legend()\n",
    "            plt.ylabel('AUC')\n",
    "            plt.title('XGBoost AUC')\n",
    "            plt.show()\n",
    "    \n",
    "        # Test model\n",
    "        \n",
    "        y_val['y_pred'] = model.predict_proba(X_val)[:,1]\n",
    "        y_val['prob_for_month'] = y_val.apply(lambda x: get_proba_for_month(x.y_pred, x.term), axis=1)\n",
    "\n",
    "        c_ind = concordance_index(\n",
    "            event_times=y_val[\"target_month\"], predicted_scores=-y_val['prob_for_month'], event_observed=y_val['target']\n",
    "        )\n",
    "\n",
    "        # print(\"C_INDEX\", c_ind)\n",
    "        # metric = roc_auc_score(y_val[\"target_xgb\"], y_val['y_pred'])\n",
    "        metrics.append(\n",
    "            c_ind\n",
    "        )\n",
    "        print(\n",
    "            \"C_INDEX\", round(\n",
    "                c_ind, 5\n",
    "            )\n",
    "        )\n",
    "\n",
    "        # if len(metrics) == 2 and max(metrics) < 0.72:\n",
    "        #     break\n",
    "        \n",
    "    # print(\n",
    "    #     f\"{round(np.mean(metrics), 5)} +- {round(np.std(metrics), 5)}\"\n",
    "    # )\n",
    "\n",
    "    return np.mean(metrics)"
   ]
  },
  {
   "cell_type": "code",
   "execution_count": 13,
   "metadata": {},
   "outputs": [
    {
     "name": "stderr",
     "output_type": "stream",
     "text": [
      "\u001b[32m[I 2023-05-15 04:17:30,587]\u001b[0m A new study created in memory with name: no-name-977483b6-0a0d-44f4-8e4d-5b3d75574cee\u001b[0m\n"
     ]
    },
    {
     "name": "stdout",
     "output_type": "stream",
     "text": [
      "C_INDEX 0.68715\n",
      "C_INDEX 0.68629\n"
     ]
    },
    {
     "name": "stderr",
     "output_type": "stream",
     "text": [
      "\u001b[32m[I 2023-05-15 04:19:46,333]\u001b[0m Trial 0 finished with value: 0.6871648349953875 and parameters: {'subsample': 0.2627331936320325, 'learning_rate': 0.1524645552177892, 'max_depth': 7}. Best is trial 0 with value: 0.6871648349953875.\u001b[0m\n"
     ]
    },
    {
     "name": "stdout",
     "output_type": "stream",
     "text": [
      "C_INDEX 0.68805\n",
      "C_INDEX 0.68926\n",
      "C_INDEX 0.68725\n"
     ]
    },
    {
     "name": "stderr",
     "output_type": "stream",
     "text": [
      "\u001b[32m[I 2023-05-15 04:27:02,155]\u001b[0m Trial 1 finished with value: 0.6887082608591736 and parameters: {'subsample': 0.3649299538199618, 'learning_rate': 0.07692002043266608, 'max_depth': 4}. Best is trial 1 with value: 0.6887082608591736.\u001b[0m\n"
     ]
    },
    {
     "name": "stdout",
     "output_type": "stream",
     "text": [
      "C_INDEX 0.68962\n",
      "C_INDEX 0.69115\n",
      "C_INDEX 0.68921\n"
     ]
    },
    {
     "name": "stderr",
     "output_type": "stream",
     "text": [
      "\u001b[32m[I 2023-05-15 04:35:35,653]\u001b[0m Trial 2 finished with value: 0.6903432490429346 and parameters: {'subsample': 0.5115568993050522, 'learning_rate': 0.04625704018497025, 'max_depth': 8}. Best is trial 2 with value: 0.6903432490429346.\u001b[0m\n"
     ]
    },
    {
     "name": "stdout",
     "output_type": "stream",
     "text": [
      "C_INDEX 0.69067\n",
      "C_INDEX 0.6898\n",
      "C_INDEX 0.6885\n"
     ]
    },
    {
     "name": "stderr",
     "output_type": "stream",
     "text": [
      "\u001b[32m[I 2023-05-15 04:38:51,184]\u001b[0m Trial 3 finished with value: 0.6891458098271775 and parameters: {'subsample': 0.2845833754063056, 'learning_rate': 0.10278200310039085, 'max_depth': 6}. Best is trial 2 with value: 0.6903432490429346.\u001b[0m\n"
     ]
    },
    {
     "name": "stdout",
     "output_type": "stream",
     "text": [
      "C_INDEX 0.68914\n",
      "C_INDEX 0.69117\n",
      "C_INDEX 0.69006\n"
     ]
    },
    {
     "name": "stderr",
     "output_type": "stream",
     "text": [
      "\u001b[32m[I 2023-05-15 05:08:51,191]\u001b[0m Trial 4 finished with value: 0.6906842876645779 and parameters: {'subsample': 0.5591171202159539, 'learning_rate': 0.016354938592165642, 'max_depth': 5}. Best is trial 4 with value: 0.6906842876645779.\u001b[0m\n"
     ]
    },
    {
     "name": "stdout",
     "output_type": "stream",
     "text": [
      "C_INDEX 0.69082\n",
      "C_INDEX 0.68875\n",
      "C_INDEX 0.68662\n"
     ]
    },
    {
     "name": "stderr",
     "output_type": "stream",
     "text": [
      "\u001b[32m[I 2023-05-15 05:28:07,462]\u001b[0m Trial 5 finished with value: 0.6879759578209663 and parameters: {'subsample': 0.39993232332101647, 'learning_rate': 0.030639417316651443, 'max_depth': 3}. Best is trial 4 with value: 0.6906842876645779.\u001b[0m\n"
     ]
    },
    {
     "name": "stdout",
     "output_type": "stream",
     "text": [
      "C_INDEX 0.68856\n",
      "C_INDEX 0.68893\n",
      "C_INDEX 0.68948\n"
     ]
    },
    {
     "name": "stderr",
     "output_type": "stream",
     "text": [
      "\u001b[32m[I 2023-05-15 06:01:30,606]\u001b[0m Trial 6 finished with value: 0.6889830825282509 and parameters: {'subsample': 0.6021262765516662, 'learning_rate': 0.014356550896528342, 'max_depth': 4}. Best is trial 4 with value: 0.6906842876645779.\u001b[0m\n"
     ]
    },
    {
     "name": "stdout",
     "output_type": "stream",
     "text": [
      "C_INDEX 0.68853\n",
      "C_INDEX 0.68971\n",
      "C_INDEX 0.68854\n"
     ]
    },
    {
     "name": "stderr",
     "output_type": "stream",
     "text": [
      "\u001b[32m[I 2023-05-15 06:40:00,388]\u001b[0m Trial 7 finished with value: 0.6898611809526342 and parameters: {'subsample': 0.6467714378615524, 'learning_rate': 0.02004270616146569, 'max_depth': 3}. Best is trial 4 with value: 0.6906842876645779.\u001b[0m\n"
     ]
    },
    {
     "name": "stdout",
     "output_type": "stream",
     "text": [
      "C_INDEX 0.69134\n",
      "C_INDEX 0.68981\n",
      "C_INDEX 0.68941\n"
     ]
    },
    {
     "name": "stderr",
     "output_type": "stream",
     "text": [
      "\u001b[32m[I 2023-05-15 06:55:42,137]\u001b[0m Trial 8 finished with value: 0.6897295198662209 and parameters: {'subsample': 0.25632001068523025, 'learning_rate': 0.018708780632461865, 'max_depth': 7}. Best is trial 4 with value: 0.6906842876645779.\u001b[0m\n"
     ]
    },
    {
     "name": "stdout",
     "output_type": "stream",
     "text": [
      "C_INDEX 0.68997\n",
      "C_INDEX 0.68991\n",
      "C_INDEX 0.69031\n"
     ]
    },
    {
     "name": "stderr",
     "output_type": "stream",
     "text": [
      "\u001b[32m[I 2023-05-15 07:11:40,802]\u001b[0m Trial 9 finished with value: 0.6899193610647704 and parameters: {'subsample': 0.338043599713452, 'learning_rate': 0.026091768726815925, 'max_depth': 5}. Best is trial 4 with value: 0.6906842876645779.\u001b[0m\n"
     ]
    },
    {
     "name": "stdout",
     "output_type": "stream",
     "text": [
      "C_INDEX 0.68954\n",
      "C_INDEX 0.68959\n",
      "C_INDEX 0.69304\n"
     ]
    },
    {
     "name": "stderr",
     "output_type": "stream",
     "text": [
      "\u001b[32m[I 2023-05-15 07:35:19,742]\u001b[0m Trial 10 finished with value: 0.6910000866549075 and parameters: {'subsample': 0.4981527623116705, 'learning_rate': 0.010140173080653486, 'max_depth': 10}. Best is trial 10 with value: 0.6910000866549075.\u001b[0m\n"
     ]
    },
    {
     "name": "stdout",
     "output_type": "stream",
     "text": [
      "C_INDEX 0.69038\n",
      "C_INDEX 0.6929\n",
      "C_INDEX 0.6901\n"
     ]
    },
    {
     "name": "stderr",
     "output_type": "stream",
     "text": [
      "\u001b[32m[I 2023-05-15 08:00:06,448]\u001b[0m Trial 11 finished with value: 0.6912821586556568 and parameters: {'subsample': 0.49713000281165315, 'learning_rate': 0.011137678848817107, 'max_depth': 10}. Best is trial 11 with value: 0.6912821586556568.\u001b[0m\n"
     ]
    },
    {
     "name": "stdout",
     "output_type": "stream",
     "text": [
      "C_INDEX 0.69085\n",
      "C_INDEX 0.69177\n",
      "C_INDEX 0.69309\n"
     ]
    },
    {
     "name": "stderr",
     "output_type": "stream",
     "text": [
      "\u001b[32m[I 2023-05-15 08:24:01,652]\u001b[0m Trial 12 finished with value: 0.6920630744533852 and parameters: {'subsample': 0.4822178498359528, 'learning_rate': 0.011705757185608078, 'max_depth': 10}. Best is trial 12 with value: 0.6920630744533852.\u001b[0m\n"
     ]
    },
    {
     "name": "stdout",
     "output_type": "stream",
     "text": [
      "C_INDEX 0.69133\n",
      "C_INDEX 0.69014\n",
      "C_INDEX 0.69157\n"
     ]
    },
    {
     "name": "stderr",
     "output_type": "stream",
     "text": [
      "\u001b[32m[I 2023-05-15 08:45:23,042]\u001b[0m Trial 13 finished with value: 0.6908232895870592 and parameters: {'subsample': 0.4740363706682452, 'learning_rate': 0.010474744506985236, 'max_depth': 10}. Best is trial 12 with value: 0.6920630744533852.\u001b[0m\n"
     ]
    },
    {
     "name": "stdout",
     "output_type": "stream",
     "text": [
      "C_INDEX 0.69076\n",
      "C_INDEX 0.6914\n",
      "C_INDEX 0.69361\n"
     ]
    },
    {
     "name": "stderr",
     "output_type": "stream",
     "text": [
      "\u001b[32m[I 2023-05-15 09:11:36,568]\u001b[0m Trial 14 finished with value: 0.6920197526948213 and parameters: {'subsample': 0.6937462195706028, 'learning_rate': 0.010211254151134545, 'max_depth': 10}. Best is trial 12 with value: 0.6920630744533852.\u001b[0m\n"
     ]
    },
    {
     "name": "stdout",
     "output_type": "stream",
     "text": [
      "C_INDEX 0.69104\n",
      "C_INDEX 0.69155\n",
      "C_INDEX 0.69109\n"
     ]
    },
    {
     "name": "stderr",
     "output_type": "stream",
     "text": [
      "\u001b[32m[I 2023-05-15 09:38:27,820]\u001b[0m Trial 15 finished with value: 0.6910653655251305 and parameters: {'subsample': 0.667385124941243, 'learning_rate': 0.013978344135004228, 'max_depth': 8}. Best is trial 12 with value: 0.6920630744533852.\u001b[0m\n"
     ]
    },
    {
     "name": "stdout",
     "output_type": "stream",
     "text": [
      "C_INDEX 0.69056\n",
      "C_INDEX 0.69254\n",
      "C_INDEX 0.69144\n"
     ]
    },
    {
     "name": "stderr",
     "output_type": "stream",
     "text": [
      "\u001b[32m[I 2023-05-15 09:51:58,665]\u001b[0m Trial 16 finished with value: 0.6920631989302913 and parameters: {'subsample': 0.6647914335903077, 'learning_rate': 0.025066311555882063, 'max_depth': 9}. Best is trial 16 with value: 0.6920631989302913.\u001b[0m\n"
     ]
    },
    {
     "name": "stdout",
     "output_type": "stream",
     "text": [
      "C_INDEX 0.6922\n",
      "C_INDEX 0.69164\n",
      "C_INDEX 0.69031\n"
     ]
    },
    {
     "name": "stderr",
     "output_type": "stream",
     "text": [
      "\u001b[32m[I 2023-05-15 10:04:23,239]\u001b[0m Trial 17 finished with value: 0.6914905193130402 and parameters: {'subsample': 0.5818993148229622, 'learning_rate': 0.02831532619297098, 'max_depth': 8}. Best is trial 16 with value: 0.6920631989302913.\u001b[0m\n"
     ]
    },
    {
     "name": "stdout",
     "output_type": "stream",
     "text": [
      "C_INDEX 0.69253\n",
      "C_INDEX 0.6892\n",
      "C_INDEX 0.69296\n"
     ]
    },
    {
     "name": "stderr",
     "output_type": "stream",
     "text": [
      "\u001b[32m[I 2023-05-15 10:13:03,953]\u001b[0m Trial 18 finished with value: 0.6909275133654381 and parameters: {'subsample': 0.42921962485430065, 'learning_rate': 0.03688519413400227, 'max_depth': 9}. Best is trial 16 with value: 0.6920631989302913.\u001b[0m\n"
     ]
    },
    {
     "name": "stdout",
     "output_type": "stream",
     "text": [
      "C_INDEX 0.69063\n",
      "C_INDEX 0.69216\n",
      "C_INDEX 0.6937\n"
     ]
    },
    {
     "name": "stderr",
     "output_type": "stream",
     "text": [
      "\u001b[32m[I 2023-05-15 12:39:21,186]\u001b[0m Trial 19 finished with value: 0.6916349212817979 and parameters: {'subsample': 0.5567791681252895, 'learning_rate': 0.02349358698817277, 'max_depth': 9}. Best is trial 16 with value: 0.6920631989302913.\u001b[0m\n"
     ]
    },
    {
     "name": "stdout",
     "output_type": "stream",
     "text": [
      "C_INDEX 0.68905\n",
      "C_INDEX 0.69143\n",
      "C_INDEX 0.69153\n"
     ]
    },
    {
     "name": "stderr",
     "output_type": "stream",
     "text": [
      "\u001b[32m[I 2023-05-15 14:21:14,368]\u001b[0m Trial 20 finished with value: 0.691552244909141 and parameters: {'subsample': 0.6350946457799223, 'learning_rate': 0.02017256150033759, 'max_depth': 6}. Best is trial 16 with value: 0.6920631989302913.\u001b[0m\n"
     ]
    },
    {
     "name": "stdout",
     "output_type": "stream",
     "text": [
      "C_INDEX 0.6917\n",
      "C_INDEX 0.69057\n",
      "C_INDEX 0.69152\n"
     ]
    },
    {
     "name": "stderr",
     "output_type": "stream",
     "text": [
      "\u001b[32m[I 2023-05-15 14:43:58,669]\u001b[0m Trial 21 finished with value: 0.6912824571504362 and parameters: {'subsample': 0.6923981898123439, 'learning_rate': 0.014152072193762482, 'max_depth': 10}. Best is trial 16 with value: 0.6920631989302913.\u001b[0m\n"
     ]
    },
    {
     "name": "stdout",
     "output_type": "stream",
     "text": [
      "C_INDEX 0.69176\n",
      "C_INDEX 0.69191\n",
      "C_INDEX 0.69047\n"
     ]
    },
    {
     "name": "stderr",
     "output_type": "stream",
     "text": [
      "\u001b[32m[I 2023-05-15 15:18:20,858]\u001b[0m Trial 22 finished with value: 0.6910756234843444 and parameters: {'subsample': 0.6962856216706544, 'learning_rate': 0.01258169801143125, 'max_depth': 9}. Best is trial 16 with value: 0.6920631989302913.\u001b[0m\n"
     ]
    },
    {
     "name": "stdout",
     "output_type": "stream",
     "text": [
      "C_INDEX 0.69085\n",
      "C_INDEX 0.69225\n",
      "C_INDEX 0.69243\n"
     ]
    },
    {
     "name": "stderr",
     "output_type": "stream",
     "text": [
      "\u001b[32m[I 2023-05-15 15:38:04,780]\u001b[0m Trial 23 finished with value: 0.6915678954521466 and parameters: {'subsample': 0.6238441796628047, 'learning_rate': 0.01708041626618617, 'max_depth': 9}. Best is trial 16 with value: 0.6920631989302913.\u001b[0m\n"
     ]
    },
    {
     "name": "stdout",
     "output_type": "stream",
     "text": [
      "C_INDEX 0.69003\n",
      "C_INDEX 0.69033\n",
      "C_INDEX 0.69201\n"
     ]
    },
    {
     "name": "stderr",
     "output_type": "stream",
     "text": [
      "\u001b[33m[W 2023-05-15 17:17:45,940]\u001b[0m Trial 24 failed with parameters: {'subsample': 0.5369865275041035, 'learning_rate': 0.01006959837507321, 'max_depth': 10} because of the following error: KeyboardInterrupt().\u001b[0m\n",
      "Traceback (most recent call last):\n",
      "  File \"/Users/annakorytnik/opt/anaconda3/envs/kol_debug/lib/python3.8/site-packages/optuna/study/_optimize.py\", line 200, in _run_trial\n",
      "    value_or_values = func(trial)\n",
      "  File \"/var/folders/n2/gg5n0_w95pv9ntx938ggdsx40000gn/T/ipykernel_36792/3613890265.py\", line 29, in objective\n",
      "    model.fit(\n",
      "  File \"/Users/annakorytnik/opt/anaconda3/envs/kol_debug/lib/python3.8/site-packages/xgboost/core.py\", line 620, in inner_f\n",
      "    return func(**kwargs)\n",
      "  File \"/Users/annakorytnik/opt/anaconda3/envs/kol_debug/lib/python3.8/site-packages/xgboost/sklearn.py\", line 1490, in fit\n",
      "    self._Booster = train(\n",
      "  File \"/Users/annakorytnik/opt/anaconda3/envs/kol_debug/lib/python3.8/site-packages/xgboost/core.py\", line 620, in inner_f\n",
      "    return func(**kwargs)\n",
      "  File \"/Users/annakorytnik/opt/anaconda3/envs/kol_debug/lib/python3.8/site-packages/xgboost/training.py\", line 186, in train\n",
      "    if cb_container.after_iteration(bst, i, dtrain, evals):\n",
      "  File \"/Users/annakorytnik/opt/anaconda3/envs/kol_debug/lib/python3.8/site-packages/xgboost/callback.py\", line 240, in after_iteration\n",
      "    score: str = model.eval_set(evals, epoch, self.metric, self._output_margin)\n",
      "  File \"/Users/annakorytnik/opt/anaconda3/envs/kol_debug/lib/python3.8/site-packages/xgboost/core.py\", line 1989, in eval_set\n",
      "    _LIB.XGBoosterEvalOneIter(\n",
      "KeyboardInterrupt\n",
      "\u001b[33m[W 2023-05-15 17:17:45,950]\u001b[0m Trial 24 failed with value None.\u001b[0m\n"
     ]
    },
    {
     "ename": "KeyboardInterrupt",
     "evalue": "",
     "output_type": "error",
     "traceback": [
      "\u001b[0;31m---------------------------------------------------------------------------\u001b[0m",
      "\u001b[0;31mKeyboardInterrupt\u001b[0m                         Traceback (most recent call last)",
      "\u001b[0;32m/var/folders/n2/gg5n0_w95pv9ntx938ggdsx40000gn/T/ipykernel_36792/3267595440.py\u001b[0m in \u001b[0;36m<cell line: 2>\u001b[0;34m()\u001b[0m\n\u001b[1;32m      1\u001b[0m \u001b[0mstudy\u001b[0m \u001b[0;34m=\u001b[0m \u001b[0moptuna\u001b[0m\u001b[0;34m.\u001b[0m\u001b[0mcreate_study\u001b[0m\u001b[0;34m(\u001b[0m\u001b[0mdirection\u001b[0m\u001b[0;34m=\u001b[0m\u001b[0;34m'maximize'\u001b[0m\u001b[0;34m)\u001b[0m\u001b[0;34m\u001b[0m\u001b[0;34m\u001b[0m\u001b[0m\n\u001b[0;32m----> 2\u001b[0;31m \u001b[0mstudy\u001b[0m\u001b[0;34m.\u001b[0m\u001b[0moptimize\u001b[0m\u001b[0;34m(\u001b[0m\u001b[0mobjective\u001b[0m\u001b[0;34m,\u001b[0m \u001b[0mn_trials\u001b[0m\u001b[0;34m=\u001b[0m\u001b[0;36m100\u001b[0m\u001b[0;34m)\u001b[0m\u001b[0;34m\u001b[0m\u001b[0;34m\u001b[0m\u001b[0m\n\u001b[0m",
      "\u001b[0;32m~/opt/anaconda3/envs/kol_debug/lib/python3.8/site-packages/optuna/study/study.py\u001b[0m in \u001b[0;36moptimize\u001b[0;34m(self, func, n_trials, timeout, n_jobs, catch, callbacks, gc_after_trial, show_progress_bar)\u001b[0m\n\u001b[1;32m    423\u001b[0m         \"\"\"\n\u001b[1;32m    424\u001b[0m \u001b[0;34m\u001b[0m\u001b[0m\n\u001b[0;32m--> 425\u001b[0;31m         _optimize(\n\u001b[0m\u001b[1;32m    426\u001b[0m             \u001b[0mstudy\u001b[0m\u001b[0;34m=\u001b[0m\u001b[0mself\u001b[0m\u001b[0;34m,\u001b[0m\u001b[0;34m\u001b[0m\u001b[0;34m\u001b[0m\u001b[0m\n\u001b[1;32m    427\u001b[0m             \u001b[0mfunc\u001b[0m\u001b[0;34m=\u001b[0m\u001b[0mfunc\u001b[0m\u001b[0;34m,\u001b[0m\u001b[0;34m\u001b[0m\u001b[0;34m\u001b[0m\u001b[0m\n",
      "\u001b[0;32m~/opt/anaconda3/envs/kol_debug/lib/python3.8/site-packages/optuna/study/_optimize.py\u001b[0m in \u001b[0;36m_optimize\u001b[0;34m(study, func, n_trials, timeout, n_jobs, catch, callbacks, gc_after_trial, show_progress_bar)\u001b[0m\n\u001b[1;32m     64\u001b[0m     \u001b[0;32mtry\u001b[0m\u001b[0;34m:\u001b[0m\u001b[0;34m\u001b[0m\u001b[0;34m\u001b[0m\u001b[0m\n\u001b[1;32m     65\u001b[0m         \u001b[0;32mif\u001b[0m \u001b[0mn_jobs\u001b[0m \u001b[0;34m==\u001b[0m \u001b[0;36m1\u001b[0m\u001b[0;34m:\u001b[0m\u001b[0;34m\u001b[0m\u001b[0;34m\u001b[0m\u001b[0m\n\u001b[0;32m---> 66\u001b[0;31m             _optimize_sequential(\n\u001b[0m\u001b[1;32m     67\u001b[0m                 \u001b[0mstudy\u001b[0m\u001b[0;34m,\u001b[0m\u001b[0;34m\u001b[0m\u001b[0;34m\u001b[0m\u001b[0m\n\u001b[1;32m     68\u001b[0m                 \u001b[0mfunc\u001b[0m\u001b[0;34m,\u001b[0m\u001b[0;34m\u001b[0m\u001b[0;34m\u001b[0m\u001b[0m\n",
      "\u001b[0;32m~/opt/anaconda3/envs/kol_debug/lib/python3.8/site-packages/optuna/study/_optimize.py\u001b[0m in \u001b[0;36m_optimize_sequential\u001b[0;34m(study, func, n_trials, timeout, catch, callbacks, gc_after_trial, reseed_sampler_rng, time_start, progress_bar)\u001b[0m\n\u001b[1;32m    161\u001b[0m \u001b[0;34m\u001b[0m\u001b[0m\n\u001b[1;32m    162\u001b[0m         \u001b[0;32mtry\u001b[0m\u001b[0;34m:\u001b[0m\u001b[0;34m\u001b[0m\u001b[0;34m\u001b[0m\u001b[0m\n\u001b[0;32m--> 163\u001b[0;31m             \u001b[0mfrozen_trial\u001b[0m \u001b[0;34m=\u001b[0m \u001b[0m_run_trial\u001b[0m\u001b[0;34m(\u001b[0m\u001b[0mstudy\u001b[0m\u001b[0;34m,\u001b[0m \u001b[0mfunc\u001b[0m\u001b[0;34m,\u001b[0m \u001b[0mcatch\u001b[0m\u001b[0;34m)\u001b[0m\u001b[0;34m\u001b[0m\u001b[0;34m\u001b[0m\u001b[0m\n\u001b[0m\u001b[1;32m    164\u001b[0m         \u001b[0;32mfinally\u001b[0m\u001b[0;34m:\u001b[0m\u001b[0;34m\u001b[0m\u001b[0;34m\u001b[0m\u001b[0m\n\u001b[1;32m    165\u001b[0m             \u001b[0;31m# The following line mitigates memory problems that can be occurred in some\u001b[0m\u001b[0;34m\u001b[0m\u001b[0;34m\u001b[0m\u001b[0;34m\u001b[0m\u001b[0m\n",
      "\u001b[0;32m~/opt/anaconda3/envs/kol_debug/lib/python3.8/site-packages/optuna/study/_optimize.py\u001b[0m in \u001b[0;36m_run_trial\u001b[0;34m(study, func, catch)\u001b[0m\n\u001b[1;32m    249\u001b[0m         \u001b[0;32mand\u001b[0m \u001b[0;32mnot\u001b[0m \u001b[0misinstance\u001b[0m\u001b[0;34m(\u001b[0m\u001b[0mfunc_err\u001b[0m\u001b[0;34m,\u001b[0m \u001b[0mcatch\u001b[0m\u001b[0;34m)\u001b[0m\u001b[0;34m\u001b[0m\u001b[0;34m\u001b[0m\u001b[0m\n\u001b[1;32m    250\u001b[0m     ):\n\u001b[0;32m--> 251\u001b[0;31m         \u001b[0;32mraise\u001b[0m \u001b[0mfunc_err\u001b[0m\u001b[0;34m\u001b[0m\u001b[0;34m\u001b[0m\u001b[0m\n\u001b[0m\u001b[1;32m    252\u001b[0m     \u001b[0;32mreturn\u001b[0m \u001b[0mfrozen_trial\u001b[0m\u001b[0;34m\u001b[0m\u001b[0;34m\u001b[0m\u001b[0m\n\u001b[1;32m    253\u001b[0m \u001b[0;34m\u001b[0m\u001b[0m\n",
      "\u001b[0;32m~/opt/anaconda3/envs/kol_debug/lib/python3.8/site-packages/optuna/study/_optimize.py\u001b[0m in \u001b[0;36m_run_trial\u001b[0;34m(study, func, catch)\u001b[0m\n\u001b[1;32m    198\u001b[0m     \u001b[0;32mwith\u001b[0m \u001b[0mget_heartbeat_thread\u001b[0m\u001b[0;34m(\u001b[0m\u001b[0mtrial\u001b[0m\u001b[0;34m.\u001b[0m\u001b[0m_trial_id\u001b[0m\u001b[0;34m,\u001b[0m \u001b[0mstudy\u001b[0m\u001b[0;34m.\u001b[0m\u001b[0m_storage\u001b[0m\u001b[0;34m)\u001b[0m\u001b[0;34m:\u001b[0m\u001b[0;34m\u001b[0m\u001b[0;34m\u001b[0m\u001b[0m\n\u001b[1;32m    199\u001b[0m         \u001b[0;32mtry\u001b[0m\u001b[0;34m:\u001b[0m\u001b[0;34m\u001b[0m\u001b[0;34m\u001b[0m\u001b[0m\n\u001b[0;32m--> 200\u001b[0;31m             \u001b[0mvalue_or_values\u001b[0m \u001b[0;34m=\u001b[0m \u001b[0mfunc\u001b[0m\u001b[0;34m(\u001b[0m\u001b[0mtrial\u001b[0m\u001b[0;34m)\u001b[0m\u001b[0;34m\u001b[0m\u001b[0;34m\u001b[0m\u001b[0m\n\u001b[0m\u001b[1;32m    201\u001b[0m         \u001b[0;32mexcept\u001b[0m \u001b[0mexceptions\u001b[0m\u001b[0;34m.\u001b[0m\u001b[0mTrialPruned\u001b[0m \u001b[0;32mas\u001b[0m \u001b[0me\u001b[0m\u001b[0;34m:\u001b[0m\u001b[0;34m\u001b[0m\u001b[0;34m\u001b[0m\u001b[0m\n\u001b[1;32m    202\u001b[0m             \u001b[0;31m# TODO(mamu): Handle multi-objective cases.\u001b[0m\u001b[0;34m\u001b[0m\u001b[0;34m\u001b[0m\u001b[0;34m\u001b[0m\u001b[0m\n",
      "\u001b[0;32m/var/folders/n2/gg5n0_w95pv9ntx938ggdsx40000gn/T/ipykernel_36792/3613890265.py\u001b[0m in \u001b[0;36mobjective\u001b[0;34m(trial)\u001b[0m\n\u001b[1;32m     27\u001b[0m \u001b[0;34m\u001b[0m\u001b[0m\n\u001b[1;32m     28\u001b[0m         \u001b[0mmodel\u001b[0m \u001b[0;34m=\u001b[0m \u001b[0mxgb\u001b[0m\u001b[0;34m.\u001b[0m\u001b[0mXGBClassifier\u001b[0m\u001b[0;34m(\u001b[0m\u001b[0;34m**\u001b[0m\u001b[0mparams\u001b[0m\u001b[0;34m)\u001b[0m\u001b[0;34m\u001b[0m\u001b[0;34m\u001b[0m\u001b[0m\n\u001b[0;32m---> 29\u001b[0;31m         model.fit(\n\u001b[0m\u001b[1;32m     30\u001b[0m             \u001b[0mX_train\u001b[0m\u001b[0;34m,\u001b[0m \u001b[0my_train\u001b[0m\u001b[0;34m[\u001b[0m\u001b[0;34m\"target_xgb\"\u001b[0m\u001b[0;34m]\u001b[0m\u001b[0;34m,\u001b[0m\u001b[0;34m\u001b[0m\u001b[0;34m\u001b[0m\u001b[0m\n\u001b[1;32m     31\u001b[0m             \u001b[0meval_set\u001b[0m\u001b[0;34m=\u001b[0m\u001b[0;34m[\u001b[0m\u001b[0;34m(\u001b[0m\u001b[0mX_train\u001b[0m\u001b[0;34m,\u001b[0m \u001b[0my_train\u001b[0m\u001b[0;34m[\u001b[0m\u001b[0;34m\"target_xgb\"\u001b[0m\u001b[0;34m]\u001b[0m\u001b[0;34m)\u001b[0m\u001b[0;34m,\u001b[0m \u001b[0;34m(\u001b[0m\u001b[0mX_val\u001b[0m\u001b[0;34m,\u001b[0m \u001b[0my_val\u001b[0m\u001b[0;34m[\u001b[0m\u001b[0;34m\"target_xgb\"\u001b[0m\u001b[0;34m]\u001b[0m\u001b[0;34m)\u001b[0m\u001b[0;34m]\u001b[0m\u001b[0;34m,\u001b[0m\u001b[0;34m\u001b[0m\u001b[0;34m\u001b[0m\u001b[0m\n",
      "\u001b[0;32m~/opt/anaconda3/envs/kol_debug/lib/python3.8/site-packages/xgboost/core.py\u001b[0m in \u001b[0;36minner_f\u001b[0;34m(*args, **kwargs)\u001b[0m\n\u001b[1;32m    618\u001b[0m             \u001b[0;32mfor\u001b[0m \u001b[0mk\u001b[0m\u001b[0;34m,\u001b[0m \u001b[0marg\u001b[0m \u001b[0;32min\u001b[0m \u001b[0mzip\u001b[0m\u001b[0;34m(\u001b[0m\u001b[0msig\u001b[0m\u001b[0;34m.\u001b[0m\u001b[0mparameters\u001b[0m\u001b[0;34m,\u001b[0m \u001b[0margs\u001b[0m\u001b[0;34m)\u001b[0m\u001b[0;34m:\u001b[0m\u001b[0;34m\u001b[0m\u001b[0;34m\u001b[0m\u001b[0m\n\u001b[1;32m    619\u001b[0m                 \u001b[0mkwargs\u001b[0m\u001b[0;34m[\u001b[0m\u001b[0mk\u001b[0m\u001b[0;34m]\u001b[0m \u001b[0;34m=\u001b[0m \u001b[0marg\u001b[0m\u001b[0;34m\u001b[0m\u001b[0;34m\u001b[0m\u001b[0m\n\u001b[0;32m--> 620\u001b[0;31m             \u001b[0;32mreturn\u001b[0m \u001b[0mfunc\u001b[0m\u001b[0;34m(\u001b[0m\u001b[0;34m**\u001b[0m\u001b[0mkwargs\u001b[0m\u001b[0;34m)\u001b[0m\u001b[0;34m\u001b[0m\u001b[0;34m\u001b[0m\u001b[0m\n\u001b[0m\u001b[1;32m    621\u001b[0m \u001b[0;34m\u001b[0m\u001b[0m\n\u001b[1;32m    622\u001b[0m         \u001b[0;32mreturn\u001b[0m \u001b[0minner_f\u001b[0m\u001b[0;34m\u001b[0m\u001b[0;34m\u001b[0m\u001b[0m\n",
      "\u001b[0;32m~/opt/anaconda3/envs/kol_debug/lib/python3.8/site-packages/xgboost/sklearn.py\u001b[0m in \u001b[0;36mfit\u001b[0;34m(self, X, y, sample_weight, base_margin, eval_set, eval_metric, early_stopping_rounds, verbose, xgb_model, sample_weight_eval_set, base_margin_eval_set, feature_weights, callbacks)\u001b[0m\n\u001b[1;32m   1488\u001b[0m             )\n\u001b[1;32m   1489\u001b[0m \u001b[0;34m\u001b[0m\u001b[0m\n\u001b[0;32m-> 1490\u001b[0;31m             self._Booster = train(\n\u001b[0m\u001b[1;32m   1491\u001b[0m                 \u001b[0mparams\u001b[0m\u001b[0;34m,\u001b[0m\u001b[0;34m\u001b[0m\u001b[0;34m\u001b[0m\u001b[0m\n\u001b[1;32m   1492\u001b[0m                 \u001b[0mtrain_dmatrix\u001b[0m\u001b[0;34m,\u001b[0m\u001b[0;34m\u001b[0m\u001b[0;34m\u001b[0m\u001b[0m\n",
      "\u001b[0;32m~/opt/anaconda3/envs/kol_debug/lib/python3.8/site-packages/xgboost/core.py\u001b[0m in \u001b[0;36minner_f\u001b[0;34m(*args, **kwargs)\u001b[0m\n\u001b[1;32m    618\u001b[0m             \u001b[0;32mfor\u001b[0m \u001b[0mk\u001b[0m\u001b[0;34m,\u001b[0m \u001b[0marg\u001b[0m \u001b[0;32min\u001b[0m \u001b[0mzip\u001b[0m\u001b[0;34m(\u001b[0m\u001b[0msig\u001b[0m\u001b[0;34m.\u001b[0m\u001b[0mparameters\u001b[0m\u001b[0;34m,\u001b[0m \u001b[0margs\u001b[0m\u001b[0;34m)\u001b[0m\u001b[0;34m:\u001b[0m\u001b[0;34m\u001b[0m\u001b[0;34m\u001b[0m\u001b[0m\n\u001b[1;32m    619\u001b[0m                 \u001b[0mkwargs\u001b[0m\u001b[0;34m[\u001b[0m\u001b[0mk\u001b[0m\u001b[0;34m]\u001b[0m \u001b[0;34m=\u001b[0m \u001b[0marg\u001b[0m\u001b[0;34m\u001b[0m\u001b[0;34m\u001b[0m\u001b[0m\n\u001b[0;32m--> 620\u001b[0;31m             \u001b[0;32mreturn\u001b[0m \u001b[0mfunc\u001b[0m\u001b[0;34m(\u001b[0m\u001b[0;34m**\u001b[0m\u001b[0mkwargs\u001b[0m\u001b[0;34m)\u001b[0m\u001b[0;34m\u001b[0m\u001b[0;34m\u001b[0m\u001b[0m\n\u001b[0m\u001b[1;32m    621\u001b[0m \u001b[0;34m\u001b[0m\u001b[0m\n\u001b[1;32m    622\u001b[0m         \u001b[0;32mreturn\u001b[0m \u001b[0minner_f\u001b[0m\u001b[0;34m\u001b[0m\u001b[0;34m\u001b[0m\u001b[0m\n",
      "\u001b[0;32m~/opt/anaconda3/envs/kol_debug/lib/python3.8/site-packages/xgboost/training.py\u001b[0m in \u001b[0;36mtrain\u001b[0;34m(params, dtrain, num_boost_round, evals, obj, feval, maximize, early_stopping_rounds, evals_result, verbose_eval, xgb_model, callbacks, custom_metric)\u001b[0m\n\u001b[1;32m    184\u001b[0m             \u001b[0;32mbreak\u001b[0m\u001b[0;34m\u001b[0m\u001b[0;34m\u001b[0m\u001b[0m\n\u001b[1;32m    185\u001b[0m         \u001b[0mbst\u001b[0m\u001b[0;34m.\u001b[0m\u001b[0mupdate\u001b[0m\u001b[0;34m(\u001b[0m\u001b[0mdtrain\u001b[0m\u001b[0;34m,\u001b[0m \u001b[0mi\u001b[0m\u001b[0;34m,\u001b[0m \u001b[0mobj\u001b[0m\u001b[0;34m)\u001b[0m\u001b[0;34m\u001b[0m\u001b[0;34m\u001b[0m\u001b[0m\n\u001b[0;32m--> 186\u001b[0;31m         \u001b[0;32mif\u001b[0m \u001b[0mcb_container\u001b[0m\u001b[0;34m.\u001b[0m\u001b[0mafter_iteration\u001b[0m\u001b[0;34m(\u001b[0m\u001b[0mbst\u001b[0m\u001b[0;34m,\u001b[0m \u001b[0mi\u001b[0m\u001b[0;34m,\u001b[0m \u001b[0mdtrain\u001b[0m\u001b[0;34m,\u001b[0m \u001b[0mevals\u001b[0m\u001b[0;34m)\u001b[0m\u001b[0;34m:\u001b[0m\u001b[0;34m\u001b[0m\u001b[0;34m\u001b[0m\u001b[0m\n\u001b[0m\u001b[1;32m    187\u001b[0m             \u001b[0;32mbreak\u001b[0m\u001b[0;34m\u001b[0m\u001b[0;34m\u001b[0m\u001b[0m\n\u001b[1;32m    188\u001b[0m \u001b[0;34m\u001b[0m\u001b[0m\n",
      "\u001b[0;32m~/opt/anaconda3/envs/kol_debug/lib/python3.8/site-packages/xgboost/callback.py\u001b[0m in \u001b[0;36mafter_iteration\u001b[0;34m(self, model, epoch, dtrain, evals)\u001b[0m\n\u001b[1;32m    238\u001b[0m             \u001b[0;32mfor\u001b[0m \u001b[0m_\u001b[0m\u001b[0;34m,\u001b[0m \u001b[0mname\u001b[0m \u001b[0;32min\u001b[0m \u001b[0mevals\u001b[0m\u001b[0;34m:\u001b[0m\u001b[0;34m\u001b[0m\u001b[0;34m\u001b[0m\u001b[0m\n\u001b[1;32m    239\u001b[0m                 \u001b[0;32massert\u001b[0m \u001b[0mname\u001b[0m\u001b[0;34m.\u001b[0m\u001b[0mfind\u001b[0m\u001b[0;34m(\u001b[0m\u001b[0;34m'-'\u001b[0m\u001b[0;34m)\u001b[0m \u001b[0;34m==\u001b[0m \u001b[0;34m-\u001b[0m\u001b[0;36m1\u001b[0m\u001b[0;34m,\u001b[0m \u001b[0;34m'Dataset name should not contain `-`'\u001b[0m\u001b[0;34m\u001b[0m\u001b[0;34m\u001b[0m\u001b[0m\n\u001b[0;32m--> 240\u001b[0;31m             \u001b[0mscore\u001b[0m\u001b[0;34m:\u001b[0m \u001b[0mstr\u001b[0m \u001b[0;34m=\u001b[0m \u001b[0mmodel\u001b[0m\u001b[0;34m.\u001b[0m\u001b[0meval_set\u001b[0m\u001b[0;34m(\u001b[0m\u001b[0mevals\u001b[0m\u001b[0;34m,\u001b[0m \u001b[0mepoch\u001b[0m\u001b[0;34m,\u001b[0m \u001b[0mself\u001b[0m\u001b[0;34m.\u001b[0m\u001b[0mmetric\u001b[0m\u001b[0;34m,\u001b[0m \u001b[0mself\u001b[0m\u001b[0;34m.\u001b[0m\u001b[0m_output_margin\u001b[0m\u001b[0;34m)\u001b[0m\u001b[0;34m\u001b[0m\u001b[0;34m\u001b[0m\u001b[0m\n\u001b[0m\u001b[1;32m    241\u001b[0m             \u001b[0msplited\u001b[0m \u001b[0;34m=\u001b[0m \u001b[0mscore\u001b[0m\u001b[0;34m.\u001b[0m\u001b[0msplit\u001b[0m\u001b[0;34m(\u001b[0m\u001b[0;34m)\u001b[0m\u001b[0;34m[\u001b[0m\u001b[0;36m1\u001b[0m\u001b[0;34m:\u001b[0m\u001b[0;34m]\u001b[0m  \u001b[0;31m# into datasets\u001b[0m\u001b[0;34m\u001b[0m\u001b[0;34m\u001b[0m\u001b[0m\n\u001b[1;32m    242\u001b[0m             \u001b[0;31m# split up `test-error:0.1234`\u001b[0m\u001b[0;34m\u001b[0m\u001b[0;34m\u001b[0m\u001b[0;34m\u001b[0m\u001b[0m\n",
      "\u001b[0;32m~/opt/anaconda3/envs/kol_debug/lib/python3.8/site-packages/xgboost/core.py\u001b[0m in \u001b[0;36meval_set\u001b[0;34m(self, evals, iteration, feval, output_margin)\u001b[0m\n\u001b[1;32m   1987\u001b[0m         \u001b[0mmsg\u001b[0m \u001b[0;34m=\u001b[0m \u001b[0mctypes\u001b[0m\u001b[0;34m.\u001b[0m\u001b[0mc_char_p\u001b[0m\u001b[0;34m(\u001b[0m\u001b[0;34m)\u001b[0m\u001b[0;34m\u001b[0m\u001b[0;34m\u001b[0m\u001b[0m\n\u001b[1;32m   1988\u001b[0m         _check_call(\n\u001b[0;32m-> 1989\u001b[0;31m             _LIB.XGBoosterEvalOneIter(\n\u001b[0m\u001b[1;32m   1990\u001b[0m                 \u001b[0mself\u001b[0m\u001b[0;34m.\u001b[0m\u001b[0mhandle\u001b[0m\u001b[0;34m,\u001b[0m\u001b[0;34m\u001b[0m\u001b[0;34m\u001b[0m\u001b[0m\n\u001b[1;32m   1991\u001b[0m                 \u001b[0mctypes\u001b[0m\u001b[0;34m.\u001b[0m\u001b[0mc_int\u001b[0m\u001b[0;34m(\u001b[0m\u001b[0miteration\u001b[0m\u001b[0;34m)\u001b[0m\u001b[0;34m,\u001b[0m\u001b[0;34m\u001b[0m\u001b[0;34m\u001b[0m\u001b[0m\n",
      "\u001b[0;31mKeyboardInterrupt\u001b[0m: "
     ]
    }
   ],
   "source": [
    "study = optuna.create_study(direction='maximize')\n",
    "study.optimize(objective, n_trials=100)"
   ]
  },
  {
   "cell_type": "code",
   "execution_count": 14,
   "metadata": {},
   "outputs": [
    {
     "data": {
      "text/plain": [
       "FrozenTrial(number=16, state=TrialState.COMPLETE, values=[0.6920631989302913], datetime_start=datetime.datetime(2023, 5, 15, 9, 38, 27, 821838), datetime_complete=datetime.datetime(2023, 5, 15, 9, 51, 58, 665023), params={'subsample': 0.6647914335903077, 'learning_rate': 0.025066311555882063, 'max_depth': 9}, user_attrs={}, system_attrs={}, intermediate_values={}, distributions={'subsample': FloatDistribution(high=0.7, log=True, low=0.25, step=None), 'learning_rate': FloatDistribution(high=0.2, log=True, low=0.01, step=None), 'max_depth': IntDistribution(high=10, log=True, low=3, step=1)}, trial_id=16, value=None)"
      ]
     },
     "execution_count": 14,
     "metadata": {},
     "output_type": "execute_result"
    }
   ],
   "source": [
    "study.best_trial"
   ]
  },
  {
   "cell_type": "markdown",
   "metadata": {},
   "source": [
    "[FrozenTrial(number=2, state=TrialState.COMPLETE, values=[0.5706904511659537], datetime_start=datetime.datetime(2023, 5, 13, 18, 25, 38, 19301), datetime_complete=datetime.datetime(2023, 5, 13, 18, 27, 1, 321098), params={'subsample': 0.06435314059498777, 'learning_rate': 0.036202388856127116}, user_attrs={}, system_attrs={}, intermediate_values={}, distributions={'subsample': FloatDistribution(high=1.0, log=True, low=0.001, step=None), 'learning_rate': FloatDistribution(high=0.3, log=True, low=0.01, step=None)}, trial_id=2, value=None)]"
   ]
  },
  {
   "cell_type": "markdown",
   "metadata": {},
   "source": [
    "[FrozenTrial(number=2, state=TrialState.COMPLETE, values=[0.5841330582073612], datetime_start=datetime.datetime(2023, 5, 13, 18, 34, 44, 410982), datetime_complete=datetime.datetime(2023, 5, 13, 18, 36, 35, 19502), params={'subsample': 0.6701497743342159, 'learning_rate': 0.18413715344103385}, user_attrs={}, system_attrs={}, intermediate_values={}, distributions={'subsample': FloatDistribution(high=1.0, log=True, low=0.001, step=None), 'learning_rate': FloatDistribution(high=0.3, log=True, low=0.01, step=None)}, trial_id=2, value=None)]"
   ]
  },
  {
   "cell_type": "markdown",
   "metadata": {},
   "source": [
    "FrozenTrial(number=18, state=TrialState.COMPLETE, values=[0.6288033226144973], datetime_start=datetime.datetime(2023, 5, 13, 19, 37, 31, 754674), datetime_complete=datetime.datetime(2023, 5, 13, 19, 39, 37, 640029), params={'subsample': 0.36848188910366186, 'learning_rate': 0.0314119110035605, 'features': ('annual_inc', 'loan_amnt', 'fico_average', 'emp_length')}, user_attrs={}, system_attrs={}, intermediate_values={}, \n",
    "\n",
    "distributions={'subsample': FloatDistribution(high=1.0, log=True, low=0.001, step=None), 'learning_rate': FloatDistribution(high=0.3, log=True, low=0.01, step=None), 'features': CategoricalDistribution(choices=(('annual_inc', 'loan_amnt'), ('annual_inc', 'loan_amnt', 'fico_average'), ('annual_inc', 'loan_amnt', 'fico_average', 'emp_length')))}, trial_id=18, value=None)"
   ]
  },
  {
   "cell_type": "markdown",
   "metadata": {},
   "source": [
    "FrozenTrial(number=0, state=TrialState.COMPLETE, values=[0.6414780581888492], datetime_start=datetime.datetime(2023, 5, 13, 20, 4, 14, 72369), datetime_complete=datetime.datetime(2023, 5, 13, 20, 5, 23, 355636), params={'subsample': 0.22582945179691508, 'learning_rate': 0.014041463069293294}, user_attrs={}, system_attrs={}, intermediate_values={}, distributions={'subsample': FloatDistribution(high=1.0, log=True, low=0.001, step=None), 'learning_rate': FloatDistribution(high=0.3, log=True, low=0.01, step=None)}, trial_id=0, value=None)"
   ]
  },
  {
   "cell_type": "markdown",
   "metadata": {},
   "source": [
    "FrozenTrial(number=4, state=TrialState.COMPLETE, values=[0.6478027939799046], datetime_start=datetime.datetime(2023, 5, 13, 20, 43, 15, 532172), datetime_complete=datetime.datetime(2023, 5, 13, 20, 48, 4, 931532), params={'n_estimators': 297, 'subsample': 0.5023651754403868, 'learning_rate': 0.013297707588788659}, user_attrs={}, system_attrs={}, intermediate_values={}, distributions={'n_estimators': IntDistribution(high=600, log=True, low=100, step=1), 'subsample': FloatDistribution(high=1.0, log=True, low=0.01, step=None), 'learning_rate': FloatDistribution(high=0.3, log=True, low=0.01, step=None)}, trial_id=4, value=None)"
   ]
  },
  {
   "cell_type": "markdown",
   "metadata": {},
   "source": [
    "FrozenTrial(number=2, state=TrialState.COMPLETE, values=[0.7056628191146204], datetime_start=datetime.datetime(2023, 5, 13, 20, 57, 13, 758039), datetime_complete=datetime.datetime(2023, 5, 13, 21, 3, 26, 599971), params={'n_estimators': 386, 'subsample': 0.5802227354327434, 'learning_rate': 0.018175234298120842}, user_attrs={}, system_attrs={}, intermediate_values={}, distributions={'n_estimators': IntDistribution(high=400, log=True, low=150, step=1), 'subsample': FloatDistribution(high=1.0, log=True, low=0.01, step=None), 'learning_rate': FloatDistribution(high=0.3, log=True, low=0.01, step=None)}, trial_id=2, value=None)"
   ]
  },
  {
   "cell_type": "markdown",
   "metadata": {},
   "source": [
    "[\"annual_inc\", \"loan_amnt\", \"fico_average\", \"emp_length\", \"acc_open_past_24mths\", \"avg_cur_bal\" , \"sub_grade\", \"int_rate\"]\n",
    "\n",
    "FrozenTrial(number=2, state=TrialState.COMPLETE, values=[0.7319637194257594], datetime_start=datetime.datetime(2023, 5, 14, 20, 37, 11, 356350), datetime_complete=datetime.datetime(2023, 5, 14, 20, 40, 40, 309404), params={'subsample': 0.5036186170641379, 'learning_rate': 0.07280828054330878, 'max_depth': 8}, user_attrs={}, system_attrs={}, intermediate_values={}, distributions={'subsample': FloatDistribution(high=0.6, log=True, low=0.1, step=None), 'learning_rate': FloatDistribution(high=0.2, log=True, low=0.01, step=None), 'max_depth': IntDistribution(high=10, log=True, low=3, step=1)}, trial_id=2, value=None)"
   ]
  },
  {
   "cell_type": "markdown",
   "metadata": {},
   "source": [
    "features = [\"annual_inc\", \"loan_amnt\", \"fico_average\", \"emp_length\", \"acc_open_past_24mths\", \"avg_cur_bal\" , \"sub_grade\", \"int_rate\", \"revol_util\"]\n",
    "features += [col for col in data.columns if \"home_ownership_ohe_\" in col]\n",
    "\n",
    "FrozenTrial(number=4, state=TrialState.COMPLETE, values=[0.7338525205589255], datetime_start=datetime.datetime(2023, 5, 14, 21, 52, 16, 244266), datetime_complete=datetime.datetime(2023, 5, 14, 22, 1, 47, 415475), params={'subsample': 0.2619685319453447, 'learning_rate': 0.01739293623497205, 'max_depth': 10}, user_attrs={}, system_attrs={}, intermediate_values={}, distributions={'subsample': FloatDistribution(high=0.7, log=True, low=0.25, step=None), 'learning_rate': FloatDistribution(high=0.2, log=True, low=0.01, step=None), 'max_depth': IntDistribution(high=10, log=True, low=3, step=1)}, trial_id=4, value=None)"
   ]
  },
  {
   "cell_type": "markdown",
   "metadata": {},
   "source": [
    "features = [\"annual_inc\", \"loan_amnt\", \"fico_average\", \"emp_length\", \"acc_open_past_24mths\", \"avg_cur_bal\" , \"sub_grade\", \"int_rate\", \"revol_util\"]\n",
    "\n",
    "features += [col for col in data.columns if \"home_ownership_ohe_\" in col]\n",
    "\n",
    "FrozenTrial(number=16, state=TrialState.COMPLETE, values=[0.6920631989302913], datetime_start=datetime.datetime(2023, 5, 15, 9, 38, 27, 821838), datetime_complete=datetime.datetime(2023, 5, 15, 9, 51, 58, 665023), params={'subsample': 0.6647914335903077, 'learning_rate': 0.025066311555882063, 'max_depth': 9}, user_attrs={}, system_attrs={}, intermediate_values={}, distributions={'subsample': FloatDistribution(high=0.7, log=True, low=0.25, step=None), 'learning_rate': FloatDistribution(high=0.2, log=True, low=0.01, step=None), 'max_depth': IntDistribution(high=10, log=True, low=3, step=1)}, trial_id=16, value=None)"
   ]
  },
  {
   "cell_type": "markdown",
   "metadata": {},
   "source": [
    "# Wrong\n",
    "\n",
    "[\"annual_inc\", \"loan_amnt\", \"fico_average\", \"emp_length\", \"acc_open_past_24mths\", \"avg_cur_bal\" , \"sub_grade\", \"dti\"]\n",
    "\n",
    "FrozenTrial(number=2, state=TrialState.COMPLETE, values=[0.7042695763788417], datetime_start=datetime.datetime(2023, 5, 13, 21, 23, 14, 409457), datetime_complete=datetime.datetime(2023, 5, 13, 21, 26, 2, 806772), params={'n_estimators': 195, 'subsample': 0.050919411040719585, 'learning_rate': 0.02744129835382001}, user_attrs={}, system_attrs={}, intermediate_values={}, distributions={'n_estimators': IntDistribution(high=500, log=True, low=150, step=1), 'subsample': FloatDistribution(high=1.0, log=True, low=0.01, step=None), 'learning_rate': FloatDistribution(high=0.3, log=True, low=0.01, step=None)}, trial_id=2, value=None)\n",
    "\n"
   ]
  },
  {
   "cell_type": "markdown",
   "metadata": {},
   "source": [
    "[\"annual_inc\", \"loan_amnt\", \"fico_average\", \"emp_length\", \"acc_open_past_24mths\", \"avg_cur_bal\" , \"sub_grade\", \"initial_list_status\"]\n",
    "\n",
    "FrozenTrial(number=4, state=TrialState.COMPLETE, values=[0.7055814865786371], datetime_start=datetime.datetime(2023, 5, 13, 22, 0, 25, 924283), datetime_complete=datetime.datetime(2023, 5, 13, 22, 6, 5, 514102), params={'n_estimators': 369, 'subsample': 0.5376649220043659, 'learning_rate': 0.049542498705915004}, user_attrs={}, system_attrs={}, intermediate_values={}, distributions={'n_estimators': IntDistribution(high=500, log=True, low=150, step=1), 'subsample': FloatDistribution(high=0.6, log=True, low=0.05, step=None), 'learning_rate': FloatDistribution(high=0.3, log=True, low=0.01, step=None)}, trial_id=4, value=None)"
   ]
  },
  {
   "cell_type": "markdown",
   "metadata": {},
   "source": [
    "[\"annual_inc\", \"loan_amnt\", \"fico_average\", \"emp_length\", \"acc_open_past_24mths\", \"avg_cur_bal\" , \"sub_grade\", \"initial_list_status\"]"
   ]
  }
 ],
 "metadata": {
  "kernelspec": {
   "display_name": "Kedro (rad_kol)",
   "language": "python",
   "name": "kedro_rad_kol"
  },
  "language_info": {
   "codemirror_mode": {
    "name": "ipython",
    "version": 3
   },
   "file_extension": ".py",
   "mimetype": "text/x-python",
   "name": "python",
   "nbconvert_exporter": "python",
   "pygments_lexer": "ipython3",
   "version": "3.8.12"
  },
  "orig_nbformat": 4,
  "vscode": {
   "interpreter": {
    "hash": "ca1d4350bcb83f718c1ec3ab5b3e7665f30cdd2135f2781a71c70cb36a1e6d75"
   }
  }
 },
 "nbformat": 4,
 "nbformat_minor": 2
}
