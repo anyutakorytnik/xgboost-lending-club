{
 "cells": [
  {
   "cell_type": "code",
   "execution_count": 1,
   "metadata": {},
   "outputs": [],
   "source": [
    "from ydata_profiling import ProfileReport\n",
    "import pandas as pd"
   ]
  },
  {
   "cell_type": "code",
   "execution_count": 2,
   "metadata": {},
   "outputs": [],
   "source": [
    "data = pd.read_parquet(\"data_target_4xgb.parquet.gzip\")"
   ]
  },
  {
   "cell_type": "code",
   "execution_count": 7,
   "metadata": {},
   "outputs": [
    {
     "name": "stderr",
     "output_type": "stream",
     "text": [
      "Summarize dataset: 100%|██████████| 126/126 [02:01<00:00,  1.03it/s, Completed]                                                   \n",
      "Generate report structure: 100%|██████████| 1/1 [00:16<00:00, 16.52s/it]\n",
      "Render HTML: 100%|██████████| 1/1 [00:01<00:00,  1.76s/it]\n",
      "Export report to file: 100%|██████████| 1/1 [00:00<00:00, 190.40it/s]\n"
     ]
    }
   ],
   "source": [
    "profile = ProfileReport(data, minimal=True)\n",
    "profile.to_file(\"profile_report_min2.html\")"
   ]
  },
  {
   "cell_type": "code",
   "execution_count": null,
   "metadata": {},
   "outputs": [],
   "source": []
  }
 ],
 "metadata": {
  "kernelspec": {
   "display_name": "Python 3.8.8 64-bit ('anaconda3')",
   "language": "python",
   "name": "python3"
  },
  "language_info": {
   "codemirror_mode": {
    "name": "ipython",
    "version": 3
   },
   "file_extension": ".py",
   "mimetype": "text/x-python",
   "name": "python",
   "nbconvert_exporter": "python",
   "pygments_lexer": "ipython3",
   "version": "3.8.8"
  },
  "orig_nbformat": 4,
  "vscode": {
   "interpreter": {
    "hash": "ca1d4350bcb83f718c1ec3ab5b3e7665f30cdd2135f2781a71c70cb36a1e6d75"
   }
  }
 },
 "nbformat": 4,
 "nbformat_minor": 2
}
