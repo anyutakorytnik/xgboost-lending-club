{
 "cells": [
  {
   "cell_type": "code",
   "execution_count": 1,
   "metadata": {},
   "outputs": [],
   "source": [
    "from imports_and_consts import *\n",
    "\n",
    "from sklearn.model_selection import train_test_split"
   ]
  },
  {
   "cell_type": "code",
   "execution_count": 2,
   "metadata": {},
   "outputs": [],
   "source": [
    "data = pd.read_parquet(\"data/data_with_feats_4xgb.parquet.gzip\")"
   ]
  },
  {
   "cell_type": "code",
   "execution_count": 3,
   "metadata": {},
   "outputs": [],
   "source": [
    "target_columns = ['target', 'target_month', 'target_xgb', 'term']\n",
    "features = [\"annual_inc\", \"loan_amnt\", \"fico_average\", \"emp_length\", \"acc_open_past_24mths\", \"avg_cur_bal\" , \"sub_grade\", \"int_rate\", \"revol_util\"]\n",
    "features += [col for col in data.columns if \"home_ownership_ohe_\" in col]"
   ]
  },
  {
   "cell_type": "code",
   "execution_count": 5,
   "metadata": {},
   "outputs": [],
   "source": [
    "data_used_cols = data[features+target_columns].dropna()"
   ]
  },
  {
   "cell_type": "code",
   "execution_count": 6,
   "metadata": {},
   "outputs": [],
   "source": [
    "X, y = data_used_cols[features], data_used_cols[target_columns]\n",
    "X_train_val, X_test, y_train_val, y_test = train_test_split(X, y, test_size=0.2, random_state=SEED, stratify=y['target'])"
   ]
  },
  {
   "cell_type": "code",
   "execution_count": 7,
   "metadata": {},
   "outputs": [],
   "source": [
    "train_val_data = pd.concat([X_train_val, y_train_val], axis=1)\n",
    "test_data = pd.concat([X_test, y_test], axis=1)"
   ]
  },
  {
   "cell_type": "code",
   "execution_count": 8,
   "metadata": {},
   "outputs": [],
   "source": [
    "train_val_data.to_parquet(\"data/train_val_data.parquet.gzip\", compression='gzip')\n",
    "test_data.to_parquet(\"data/test_data.parquet.gzip\", compression='gzip')"
   ]
  }
 ],
 "metadata": {
  "kernelspec": {
   "display_name": "Python 3.8.12 ('kol_debug')",
   "language": "python",
   "name": "python3"
  },
  "language_info": {
   "codemirror_mode": {
    "name": "ipython",
    "version": 3
   },
   "file_extension": ".py",
   "mimetype": "text/x-python",
   "name": "python",
   "nbconvert_exporter": "python",
   "pygments_lexer": "ipython3",
   "version": "3.8.12"
  },
  "orig_nbformat": 4,
  "vscode": {
   "interpreter": {
    "hash": "1c86b06cc2759197e3656e62aba57707e5e43a2a0d66cd18841f2f3278edf58c"
   }
  }
 },
 "nbformat": 4,
 "nbformat_minor": 2
}
