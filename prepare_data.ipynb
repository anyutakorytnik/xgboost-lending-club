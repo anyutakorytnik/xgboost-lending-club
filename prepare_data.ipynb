{
 "cells": [
  {
   "cell_type": "code",
   "execution_count": 1,
   "metadata": {},
   "outputs": [],
   "source": [
    "import pandas as pd"
   ]
  },
  {
   "cell_type": "code",
   "execution_count": 2,
   "metadata": {},
   "outputs": [],
   "source": [
    "data = pd.read_parquet(\"Loan_status_2007-2020Q3.parquet.gzip\")"
   ]
  },
  {
   "cell_type": "code",
   "execution_count": 3,
   "metadata": {},
   "outputs": [
    {
     "data": {
      "text/html": [
       "<div>\n",
       "<style scoped>\n",
       "    .dataframe tbody tr th:only-of-type {\n",
       "        vertical-align: middle;\n",
       "    }\n",
       "\n",
       "    .dataframe tbody tr th {\n",
       "        vertical-align: top;\n",
       "    }\n",
       "\n",
       "    .dataframe thead th {\n",
       "        text-align: right;\n",
       "    }\n",
       "</style>\n",
       "<table border=\"1\" class=\"dataframe\">\n",
       "  <thead>\n",
       "    <tr style=\"text-align: right;\">\n",
       "      <th></th>\n",
       "      <th>Unnamed: 0</th>\n",
       "      <th>id</th>\n",
       "      <th>loan_amnt</th>\n",
       "      <th>funded_amnt</th>\n",
       "      <th>funded_amnt_inv</th>\n",
       "      <th>term</th>\n",
       "      <th>int_rate</th>\n",
       "      <th>installment</th>\n",
       "      <th>grade</th>\n",
       "      <th>sub_grade</th>\n",
       "      <th>...</th>\n",
       "      <th>hardship_start_date</th>\n",
       "      <th>hardship_end_date</th>\n",
       "      <th>payment_plan_start_date</th>\n",
       "      <th>hardship_length</th>\n",
       "      <th>hardship_dpd</th>\n",
       "      <th>hardship_loan_status</th>\n",
       "      <th>orig_projected_additional_accrued_interest</th>\n",
       "      <th>hardship_payoff_balance_amount</th>\n",
       "      <th>hardship_last_payment_amount</th>\n",
       "      <th>debt_settlement_flag</th>\n",
       "    </tr>\n",
       "  </thead>\n",
       "  <tbody>\n",
       "    <tr>\n",
       "      <th>0</th>\n",
       "      <td>0</td>\n",
       "      <td>1077501</td>\n",
       "      <td>5000</td>\n",
       "      <td>5000</td>\n",
       "      <td>4975.0</td>\n",
       "      <td>36 months</td>\n",
       "      <td>10.65%</td>\n",
       "      <td>162.87</td>\n",
       "      <td>B</td>\n",
       "      <td>B2</td>\n",
       "      <td>...</td>\n",
       "      <td>&lt;NA&gt;</td>\n",
       "      <td>&lt;NA&gt;</td>\n",
       "      <td>&lt;NA&gt;</td>\n",
       "      <td>&lt;NA&gt;</td>\n",
       "      <td>&lt;NA&gt;</td>\n",
       "      <td>&lt;NA&gt;</td>\n",
       "      <td>&lt;NA&gt;</td>\n",
       "      <td>&lt;NA&gt;</td>\n",
       "      <td>&lt;NA&gt;</td>\n",
       "      <td>N</td>\n",
       "    </tr>\n",
       "    <tr>\n",
       "      <th>1</th>\n",
       "      <td>1</td>\n",
       "      <td>1077430</td>\n",
       "      <td>2500</td>\n",
       "      <td>2500</td>\n",
       "      <td>2500.0</td>\n",
       "      <td>60 months</td>\n",
       "      <td>15.27%</td>\n",
       "      <td>59.83</td>\n",
       "      <td>C</td>\n",
       "      <td>C4</td>\n",
       "      <td>...</td>\n",
       "      <td>&lt;NA&gt;</td>\n",
       "      <td>&lt;NA&gt;</td>\n",
       "      <td>&lt;NA&gt;</td>\n",
       "      <td>&lt;NA&gt;</td>\n",
       "      <td>&lt;NA&gt;</td>\n",
       "      <td>&lt;NA&gt;</td>\n",
       "      <td>&lt;NA&gt;</td>\n",
       "      <td>&lt;NA&gt;</td>\n",
       "      <td>&lt;NA&gt;</td>\n",
       "      <td>N</td>\n",
       "    </tr>\n",
       "    <tr>\n",
       "      <th>2</th>\n",
       "      <td>2</td>\n",
       "      <td>1077175</td>\n",
       "      <td>2400</td>\n",
       "      <td>2400</td>\n",
       "      <td>2400.0</td>\n",
       "      <td>36 months</td>\n",
       "      <td>15.96%</td>\n",
       "      <td>84.33</td>\n",
       "      <td>C</td>\n",
       "      <td>C5</td>\n",
       "      <td>...</td>\n",
       "      <td>&lt;NA&gt;</td>\n",
       "      <td>&lt;NA&gt;</td>\n",
       "      <td>&lt;NA&gt;</td>\n",
       "      <td>&lt;NA&gt;</td>\n",
       "      <td>&lt;NA&gt;</td>\n",
       "      <td>&lt;NA&gt;</td>\n",
       "      <td>&lt;NA&gt;</td>\n",
       "      <td>&lt;NA&gt;</td>\n",
       "      <td>&lt;NA&gt;</td>\n",
       "      <td>N</td>\n",
       "    </tr>\n",
       "    <tr>\n",
       "      <th>3</th>\n",
       "      <td>3</td>\n",
       "      <td>1076863</td>\n",
       "      <td>10000</td>\n",
       "      <td>10000</td>\n",
       "      <td>10000.0</td>\n",
       "      <td>36 months</td>\n",
       "      <td>13.49%</td>\n",
       "      <td>339.31</td>\n",
       "      <td>C</td>\n",
       "      <td>C1</td>\n",
       "      <td>...</td>\n",
       "      <td>&lt;NA&gt;</td>\n",
       "      <td>&lt;NA&gt;</td>\n",
       "      <td>&lt;NA&gt;</td>\n",
       "      <td>&lt;NA&gt;</td>\n",
       "      <td>&lt;NA&gt;</td>\n",
       "      <td>&lt;NA&gt;</td>\n",
       "      <td>&lt;NA&gt;</td>\n",
       "      <td>&lt;NA&gt;</td>\n",
       "      <td>&lt;NA&gt;</td>\n",
       "      <td>N</td>\n",
       "    </tr>\n",
       "    <tr>\n",
       "      <th>4</th>\n",
       "      <td>4</td>\n",
       "      <td>1075358</td>\n",
       "      <td>3000</td>\n",
       "      <td>3000</td>\n",
       "      <td>3000.0</td>\n",
       "      <td>60 months</td>\n",
       "      <td>12.69%</td>\n",
       "      <td>67.79</td>\n",
       "      <td>B</td>\n",
       "      <td>B5</td>\n",
       "      <td>...</td>\n",
       "      <td>&lt;NA&gt;</td>\n",
       "      <td>&lt;NA&gt;</td>\n",
       "      <td>&lt;NA&gt;</td>\n",
       "      <td>&lt;NA&gt;</td>\n",
       "      <td>&lt;NA&gt;</td>\n",
       "      <td>&lt;NA&gt;</td>\n",
       "      <td>&lt;NA&gt;</td>\n",
       "      <td>&lt;NA&gt;</td>\n",
       "      <td>&lt;NA&gt;</td>\n",
       "      <td>N</td>\n",
       "    </tr>\n",
       "    <tr>\n",
       "      <th>...</th>\n",
       "      <td>...</td>\n",
       "      <td>...</td>\n",
       "      <td>...</td>\n",
       "      <td>...</td>\n",
       "      <td>...</td>\n",
       "      <td>...</td>\n",
       "      <td>...</td>\n",
       "      <td>...</td>\n",
       "      <td>...</td>\n",
       "      <td>...</td>\n",
       "      <td>...</td>\n",
       "      <td>...</td>\n",
       "      <td>...</td>\n",
       "      <td>...</td>\n",
       "      <td>...</td>\n",
       "      <td>...</td>\n",
       "      <td>...</td>\n",
       "      <td>...</td>\n",
       "      <td>...</td>\n",
       "      <td>...</td>\n",
       "      <td>...</td>\n",
       "    </tr>\n",
       "    <tr>\n",
       "      <th>2925488</th>\n",
       "      <td>105446</td>\n",
       "      <td>102556443</td>\n",
       "      <td>24000</td>\n",
       "      <td>24000</td>\n",
       "      <td>24000.0</td>\n",
       "      <td>60 months</td>\n",
       "      <td>23.99%</td>\n",
       "      <td>690.3</td>\n",
       "      <td>E</td>\n",
       "      <td>E2</td>\n",
       "      <td>...</td>\n",
       "      <td>&lt;NA&gt;</td>\n",
       "      <td>&lt;NA&gt;</td>\n",
       "      <td>&lt;NA&gt;</td>\n",
       "      <td>&lt;NA&gt;</td>\n",
       "      <td>&lt;NA&gt;</td>\n",
       "      <td>&lt;NA&gt;</td>\n",
       "      <td>&lt;NA&gt;</td>\n",
       "      <td>&lt;NA&gt;</td>\n",
       "      <td>&lt;NA&gt;</td>\n",
       "      <td>N</td>\n",
       "    </tr>\n",
       "    <tr>\n",
       "      <th>2925489</th>\n",
       "      <td>105447</td>\n",
       "      <td>102653304</td>\n",
       "      <td>10000</td>\n",
       "      <td>10000</td>\n",
       "      <td>10000.0</td>\n",
       "      <td>36 months</td>\n",
       "      <td>7.99%</td>\n",
       "      <td>313.32</td>\n",
       "      <td>A</td>\n",
       "      <td>A5</td>\n",
       "      <td>...</td>\n",
       "      <td>&lt;NA&gt;</td>\n",
       "      <td>&lt;NA&gt;</td>\n",
       "      <td>&lt;NA&gt;</td>\n",
       "      <td>&lt;NA&gt;</td>\n",
       "      <td>&lt;NA&gt;</td>\n",
       "      <td>&lt;NA&gt;</td>\n",
       "      <td>&lt;NA&gt;</td>\n",
       "      <td>&lt;NA&gt;</td>\n",
       "      <td>&lt;NA&gt;</td>\n",
       "      <td>N</td>\n",
       "    </tr>\n",
       "    <tr>\n",
       "      <th>2925490</th>\n",
       "      <td>105448</td>\n",
       "      <td>102628603</td>\n",
       "      <td>10050</td>\n",
       "      <td>10050</td>\n",
       "      <td>10050.0</td>\n",
       "      <td>36 months</td>\n",
       "      <td>16.99%</td>\n",
       "      <td>358.26</td>\n",
       "      <td>D</td>\n",
       "      <td>D1</td>\n",
       "      <td>...</td>\n",
       "      <td>&lt;NA&gt;</td>\n",
       "      <td>&lt;NA&gt;</td>\n",
       "      <td>&lt;NA&gt;</td>\n",
       "      <td>&lt;NA&gt;</td>\n",
       "      <td>&lt;NA&gt;</td>\n",
       "      <td>&lt;NA&gt;</td>\n",
       "      <td>&lt;NA&gt;</td>\n",
       "      <td>&lt;NA&gt;</td>\n",
       "      <td>&lt;NA&gt;</td>\n",
       "      <td>N</td>\n",
       "    </tr>\n",
       "    <tr>\n",
       "      <th>2925491</th>\n",
       "      <td>105449</td>\n",
       "      <td>102196576</td>\n",
       "      <td>6000</td>\n",
       "      <td>6000</td>\n",
       "      <td>6000.0</td>\n",
       "      <td>36 months</td>\n",
       "      <td>11.44%</td>\n",
       "      <td>197.69</td>\n",
       "      <td>B</td>\n",
       "      <td>B4</td>\n",
       "      <td>...</td>\n",
       "      <td>&lt;NA&gt;</td>\n",
       "      <td>&lt;NA&gt;</td>\n",
       "      <td>&lt;NA&gt;</td>\n",
       "      <td>&lt;NA&gt;</td>\n",
       "      <td>&lt;NA&gt;</td>\n",
       "      <td>&lt;NA&gt;</td>\n",
       "      <td>&lt;NA&gt;</td>\n",
       "      <td>&lt;NA&gt;</td>\n",
       "      <td>&lt;NA&gt;</td>\n",
       "      <td>N</td>\n",
       "    </tr>\n",
       "    <tr>\n",
       "      <th>2925492</th>\n",
       "      <td>105450</td>\n",
       "      <td>99799684</td>\n",
       "      <td>30000</td>\n",
       "      <td>30000</td>\n",
       "      <td>30000.0</td>\n",
       "      <td>60 months</td>\n",
       "      <td>25.49%</td>\n",
       "      <td>889.18</td>\n",
       "      <td>E</td>\n",
       "      <td>E4</td>\n",
       "      <td>...</td>\n",
       "      <td>&lt;NA&gt;</td>\n",
       "      <td>&lt;NA&gt;</td>\n",
       "      <td>&lt;NA&gt;</td>\n",
       "      <td>&lt;NA&gt;</td>\n",
       "      <td>&lt;NA&gt;</td>\n",
       "      <td>&lt;NA&gt;</td>\n",
       "      <td>&lt;NA&gt;</td>\n",
       "      <td>&lt;NA&gt;</td>\n",
       "      <td>&lt;NA&gt;</td>\n",
       "      <td>N</td>\n",
       "    </tr>\n",
       "  </tbody>\n",
       "</table>\n",
       "<p>2925493 rows × 142 columns</p>\n",
       "</div>"
      ],
      "text/plain": [
       "         Unnamed: 0         id  loan_amnt  funded_amnt  funded_amnt_inv  \\\n",
       "0                 0    1077501       5000         5000           4975.0   \n",
       "1                 1    1077430       2500         2500           2500.0   \n",
       "2                 2    1077175       2400         2400           2400.0   \n",
       "3                 3    1076863      10000        10000          10000.0   \n",
       "4                 4    1075358       3000         3000           3000.0   \n",
       "...             ...        ...        ...          ...              ...   \n",
       "2925488      105446  102556443      24000        24000          24000.0   \n",
       "2925489      105447  102653304      10000        10000          10000.0   \n",
       "2925490      105448  102628603      10050        10050          10050.0   \n",
       "2925491      105449  102196576       6000         6000           6000.0   \n",
       "2925492      105450   99799684      30000        30000          30000.0   \n",
       "\n",
       "               term int_rate  installment grade sub_grade  ...  \\\n",
       "0         36 months   10.65%       162.87     B        B2  ...   \n",
       "1         60 months   15.27%        59.83     C        C4  ...   \n",
       "2         36 months   15.96%        84.33     C        C5  ...   \n",
       "3         36 months   13.49%       339.31     C        C1  ...   \n",
       "4         60 months   12.69%        67.79     B        B5  ...   \n",
       "...             ...      ...          ...   ...       ...  ...   \n",
       "2925488   60 months   23.99%        690.3     E        E2  ...   \n",
       "2925489   36 months    7.99%       313.32     A        A5  ...   \n",
       "2925490   36 months   16.99%       358.26     D        D1  ...   \n",
       "2925491   36 months   11.44%       197.69     B        B4  ...   \n",
       "2925492   60 months   25.49%       889.18     E        E4  ...   \n",
       "\n",
       "        hardship_start_date hardship_end_date payment_plan_start_date  \\\n",
       "0                      <NA>              <NA>                    <NA>   \n",
       "1                      <NA>              <NA>                    <NA>   \n",
       "2                      <NA>              <NA>                    <NA>   \n",
       "3                      <NA>              <NA>                    <NA>   \n",
       "4                      <NA>              <NA>                    <NA>   \n",
       "...                     ...               ...                     ...   \n",
       "2925488                <NA>              <NA>                    <NA>   \n",
       "2925489                <NA>              <NA>                    <NA>   \n",
       "2925490                <NA>              <NA>                    <NA>   \n",
       "2925491                <NA>              <NA>                    <NA>   \n",
       "2925492                <NA>              <NA>                    <NA>   \n",
       "\n",
       "         hardship_length hardship_dpd hardship_loan_status  \\\n",
       "0                   <NA>         <NA>                 <NA>   \n",
       "1                   <NA>         <NA>                 <NA>   \n",
       "2                   <NA>         <NA>                 <NA>   \n",
       "3                   <NA>         <NA>                 <NA>   \n",
       "4                   <NA>         <NA>                 <NA>   \n",
       "...                  ...          ...                  ...   \n",
       "2925488             <NA>         <NA>                 <NA>   \n",
       "2925489             <NA>         <NA>                 <NA>   \n",
       "2925490             <NA>         <NA>                 <NA>   \n",
       "2925491             <NA>         <NA>                 <NA>   \n",
       "2925492             <NA>         <NA>                 <NA>   \n",
       "\n",
       "        orig_projected_additional_accrued_interest  \\\n",
       "0                                             <NA>   \n",
       "1                                             <NA>   \n",
       "2                                             <NA>   \n",
       "3                                             <NA>   \n",
       "4                                             <NA>   \n",
       "...                                            ...   \n",
       "2925488                                       <NA>   \n",
       "2925489                                       <NA>   \n",
       "2925490                                       <NA>   \n",
       "2925491                                       <NA>   \n",
       "2925492                                       <NA>   \n",
       "\n",
       "        hardship_payoff_balance_amount hardship_last_payment_amount  \\\n",
       "0                                 <NA>                         <NA>   \n",
       "1                                 <NA>                         <NA>   \n",
       "2                                 <NA>                         <NA>   \n",
       "3                                 <NA>                         <NA>   \n",
       "4                                 <NA>                         <NA>   \n",
       "...                                ...                          ...   \n",
       "2925488                           <NA>                         <NA>   \n",
       "2925489                           <NA>                         <NA>   \n",
       "2925490                           <NA>                         <NA>   \n",
       "2925491                           <NA>                         <NA>   \n",
       "2925492                           <NA>                         <NA>   \n",
       "\n",
       "        debt_settlement_flag  \n",
       "0                          N  \n",
       "1                          N  \n",
       "2                          N  \n",
       "3                          N  \n",
       "4                          N  \n",
       "...                      ...  \n",
       "2925488                    N  \n",
       "2925489                    N  \n",
       "2925490                    N  \n",
       "2925491                    N  \n",
       "2925492                    N  \n",
       "\n",
       "[2925493 rows x 142 columns]"
      ]
     },
     "execution_count": 3,
     "metadata": {},
     "output_type": "execute_result"
    }
   ],
   "source": [
    "data = data.convert_dtypes()\n",
    "data"
   ]
  },
  {
   "cell_type": "markdown",
   "metadata": {},
   "source": [
    "# Filter data"
   ]
  },
  {
   "cell_type": "markdown",
   "metadata": {},
   "source": [
    "Нужны статусы: fully paid, write off и default."
   ]
  },
  {
   "cell_type": "code",
   "execution_count": 4,
   "metadata": {},
   "outputs": [
    {
     "data": {
      "text/plain": [
       "{<NA>,\n",
       " 'Charged Off',\n",
       " 'Current',\n",
       " 'Default',\n",
       " 'Does not meet the credit policy. Status:Charged Off',\n",
       " 'Does not meet the credit policy. Status:Fully Paid',\n",
       " 'Fully Paid',\n",
       " 'In Grace Period',\n",
       " 'Issued',\n",
       " 'Late (16-30 days)',\n",
       " 'Late (31-120 days)'}"
      ]
     },
     "execution_count": 4,
     "metadata": {},
     "output_type": "execute_result"
    }
   ],
   "source": [
    "set(data[\"loan_status\"])"
   ]
  },
  {
   "cell_type": "code",
   "execution_count": 5,
   "metadata": {},
   "outputs": [],
   "source": [
    "status_to_use = ['Fully Paid', 'Default', 'Charged Off']\n",
    "data = data.loc[data['loan_status'].isin(status_to_use)].copy()"
   ]
  },
  {
   "cell_type": "markdown",
   "metadata": {},
   "source": [
    "# Calculate target\n",
    "\n",
    "Айрат:\n",
    "В банках обычно моделируют не всю кривую life time, а бинарный таргет 1/0 (был/не было дефолта).\n",
    "На этих данных нужно сделать аналог.\n",
    "Если у дефолтника расстояние между last_pymnt_d (последним платежом) и issue_d (the month which the loan was funded) менее 12 месяцев, то ставим 1, иначе 0. То есть либо дефолта не было, либо он произошел за горизонтом 12 месяцев."
   ]
  },
  {
   "cell_type": "code",
   "execution_count": 6,
   "metadata": {},
   "outputs": [],
   "source": [
    "data['last_pymnt_d'] = pd.to_datetime(data['last_pymnt_d'])\n",
    "data['issue_d'] = pd.to_datetime(data['issue_d'])"
   ]
  },
  {
   "cell_type": "code",
   "execution_count": 7,
   "metadata": {},
   "outputs": [],
   "source": [
    "data['target'] = 0"
   ]
  },
  {
   "cell_type": "code",
   "execution_count": 8,
   "metadata": {},
   "outputs": [],
   "source": [
    "data.loc[((data['last_pymnt_d'] - data['issue_d']) < pd.Timedelta(30 * 12, unit='D')) & (data['loan_status'] != 'Fully Paid'), 'target'] = 1"
   ]
  },
  {
   "cell_type": "code",
   "execution_count": 9,
   "metadata": {},
   "outputs": [
    {
     "data": {
      "text/plain": [
       "0.07187907762617936"
      ]
     },
     "execution_count": 9,
     "metadata": {},
     "output_type": "execute_result"
    }
   ],
   "source": [
    "data['target'].sum() / data.shape[0]"
   ]
  },
  {
   "cell_type": "markdown",
   "metadata": {},
   "source": [
    "# Drop columns"
   ]
  },
  {
   "cell_type": "markdown",
   "metadata": {},
   "source": [
    "## Meaningless"
   ]
  },
  {
   "cell_type": "code",
   "execution_count": 10,
   "metadata": {},
   "outputs": [],
   "source": [
    "data.drop([\"Unnamed: 0\", 'id'], axis=1, inplace=True)"
   ]
  },
  {
   "cell_type": "markdown",
   "metadata": {},
   "source": [
    "## Leak"
   ]
  },
  {
   "cell_type": "code",
   "execution_count": 11,
   "metadata": {},
   "outputs": [],
   "source": [
    "leak_columns = [\n",
    "    \"collection_recovery_fee\", \"funded_amnt\", \"funded_amnt_inv\", \"issue_d\", \"last_fico_range_high\", \"last_fico_range_low\", \"last_pymnt_amnt\", \"last_pymnt_d\", \"out_prncp\",\n",
    "    \"out_prncp_inv\", \"recoveries\", \"total_pymnt\", \"total_pymnt_inv\", \"total_rec_int\", \"total_rec_late_fee\", \"total_rec_prncp\", \"loan_status\"\n",
    "]\n",
    "\n",
    "data.drop(leak_columns, axis=1, inplace=True)"
   ]
  },
  {
   "cell_type": "markdown",
   "metadata": {},
   "source": [
    "## Included in other"
   ]
  },
  {
   "cell_type": "code",
   "execution_count": 12,
   "metadata": {},
   "outputs": [],
   "source": [
    "data.drop([\"grade\", \"title\"], axis=1, inplace=True)"
   ]
  },
  {
   "cell_type": "markdown",
   "metadata": {},
   "source": [
    "## Has only one value"
   ]
  },
  {
   "cell_type": "code",
   "execution_count": 13,
   "metadata": {},
   "outputs": [],
   "source": [
    "data.drop([\"policy_code\", \"pymnt_plan\"], axis=1, inplace=True)"
   ]
  },
  {
   "cell_type": "markdown",
   "metadata": {},
   "source": [
    "## Too little data and impossible to restore"
   ]
  },
  {
   "cell_type": "code",
   "execution_count": 14,
   "metadata": {},
   "outputs": [],
   "source": [
    "data.drop([\"next_pymnt_d\"], axis=1, inplace=True)"
   ]
  },
  {
   "cell_type": "markdown",
   "metadata": {},
   "source": [
    "# To format"
   ]
  },
  {
   "cell_type": "code",
   "execution_count": 15,
   "metadata": {},
   "outputs": [],
   "source": [
    "data['revol_util'] = data['revol_util'].str.rstrip('%').astype('float')\n",
    "data['int_rate'] = data['int_rate'].str.rstrip('%').astype('float')"
   ]
  },
  {
   "cell_type": "markdown",
   "metadata": {},
   "source": [
    "# Save data"
   ]
  },
  {
   "cell_type": "code",
   "execution_count": 16,
   "metadata": {},
   "outputs": [],
   "source": [
    "data.reset_index(inplace=True, drop=True)"
   ]
  },
  {
   "cell_type": "code",
   "execution_count": 17,
   "metadata": {},
   "outputs": [],
   "source": [
    "data.to_parquet(\"data_target_4xgb.parquet.gzip\", compression='gzip')"
   ]
  },
  {
   "cell_type": "code",
   "execution_count": null,
   "metadata": {},
   "outputs": [],
   "source": []
  }
 ],
 "metadata": {
  "kernelspec": {
   "display_name": "Python 3.8.8 64-bit ('anaconda3')",
   "language": "python",
   "name": "python3"
  },
  "language_info": {
   "codemirror_mode": {
    "name": "ipython",
    "version": 3
   },
   "file_extension": ".py",
   "mimetype": "text/x-python",
   "name": "python",
   "nbconvert_exporter": "python",
   "pygments_lexer": "ipython3",
   "version": "3.8.8"
  },
  "orig_nbformat": 4,
  "vscode": {
   "interpreter": {
    "hash": "ca1d4350bcb83f718c1ec3ab5b3e7665f30cdd2135f2781a71c70cb36a1e6d75"
   }
  }
 },
 "nbformat": 4,
 "nbformat_minor": 2
}
